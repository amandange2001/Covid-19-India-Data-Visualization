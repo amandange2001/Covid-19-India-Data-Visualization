{
 "cells": [
  {
   "cell_type": "markdown",
   "metadata": {
    "papermill": {
     "duration": 0.050955,
     "end_time": "2021-09-05T05:32:11.871934",
     "exception": false,
     "start_time": "2021-09-05T05:32:11.820979",
     "status": "completed"
    },
    "tags": []
   },
   "source": [
    "# Latest Covid-19 India Statewise Data"
   ]
  },
  {
   "cell_type": "markdown",
   "metadata": {
    "papermill": {
     "duration": 0.046377,
     "end_time": "2021-09-05T05:32:12.060098",
     "exception": false,
     "start_time": "2021-09-05T05:32:12.013721",
     "status": "completed"
    },
    "tags": []
   },
   "source": [
    "**About Dataset**\n",
    "\n",
    "This dataset contains latest Covid-19 India state-wise data. This dataset can be used to analyze covid condition in India.\n",
    "This dataset is great for Exploratory Data Analysis\n",
    "\n",
    "\n",
    "**Attribute Information**\n",
    "* State/UTs - Names of Indian States and Union Territories.\n",
    "* Total Cases - Total number of confirmed cases\n",
    "* Active - Total number of active cases\n",
    "* Discharged - Total number of discharged cases\n",
    "* Deaths - Total number of deaths\n",
    "* Active Ratio - Ratio of number of active cases to total cases\n",
    "* Discharge Ratio - Ratio of number of discharged cases to total cases\n",
    "* Death Ratio - Ratio of number of deaths to total cases"
   ]
  },
  {
   "cell_type": "markdown",
   "metadata": {
    "papermill": {
     "duration": 0.046926,
     "end_time": "2021-09-05T05:32:12.154489",
     "exception": false,
     "start_time": "2021-09-05T05:32:12.107563",
     "status": "completed"
    },
    "tags": []
   },
   "source": [
    "## Step 1:  Import Libraries"
   ]
  },
  {
   "cell_type": "code",
   "execution_count": 124,
   "metadata": {
    "execution": {
     "iopub.execute_input": "2021-09-05T05:32:12.253959Z",
     "iopub.status.busy": "2021-09-05T05:32:12.253184Z",
     "iopub.status.idle": "2021-09-05T05:32:15.114599Z",
     "shell.execute_reply": "2021-09-05T05:32:15.113947Z",
     "shell.execute_reply.started": "2021-09-05T05:29:31.819763Z"
    },
    "papermill": {
     "duration": 2.911517,
     "end_time": "2021-09-05T05:32:15.114801",
     "exception": false,
     "start_time": "2021-09-05T05:32:12.203284",
     "status": "completed"
    },
    "tags": []
   },
   "outputs": [],
   "source": [
    "import warnings\n",
    "warnings.filterwarnings('ignore')\n",
    "import pandas as pd\n",
    "import numpy as np\n",
    "import seaborn as sns\n",
    "import matplotlib.pyplot as plt\n",
    "%matplotlib inline"
   ]
  },
  {
   "cell_type": "markdown",
   "metadata": {},
   "source": [
    "## Step 2: Load Data"
   ]
  },
  {
   "cell_type": "code",
   "execution_count": 125,
   "metadata": {
    "execution": {
     "iopub.execute_input": "2021-09-05T05:32:15.305054Z",
     "iopub.status.busy": "2021-09-05T05:32:15.304076Z",
     "iopub.status.idle": "2021-09-05T05:32:15.363125Z",
     "shell.execute_reply": "2021-09-05T05:32:15.362495Z",
     "shell.execute_reply.started": "2021-09-05T05:29:34.604864Z"
    },
    "papermill": {
     "duration": 0.112265,
     "end_time": "2021-09-05T05:32:15.363274",
     "exception": false,
     "start_time": "2021-09-05T05:32:15.251009",
     "status": "completed"
    },
    "tags": []
   },
   "outputs": [
    {
     "data": {
      "text/html": [
       "<div>\n",
       "<style scoped>\n",
       "    .dataframe tbody tr th:only-of-type {\n",
       "        vertical-align: middle;\n",
       "    }\n",
       "\n",
       "    .dataframe tbody tr th {\n",
       "        vertical-align: top;\n",
       "    }\n",
       "\n",
       "    .dataframe thead th {\n",
       "        text-align: right;\n",
       "    }\n",
       "</style>\n",
       "<table border=\"1\" class=\"dataframe\">\n",
       "  <thead>\n",
       "    <tr style=\"text-align: right;\">\n",
       "      <th></th>\n",
       "      <th>State/UTs</th>\n",
       "      <th>Total Cases</th>\n",
       "      <th>Active</th>\n",
       "      <th>Discharged</th>\n",
       "      <th>Deaths</th>\n",
       "      <th>Active Ratio</th>\n",
       "      <th>Discharge Ratio</th>\n",
       "      <th>Death Ratio</th>\n",
       "      <th>Population</th>\n",
       "    </tr>\n",
       "  </thead>\n",
       "  <tbody>\n",
       "    <tr>\n",
       "      <th>0</th>\n",
       "      <td>Andaman and Nicobar</td>\n",
       "      <td>10766</td>\n",
       "      <td>0</td>\n",
       "      <td>10637</td>\n",
       "      <td>129</td>\n",
       "      <td>0.00</td>\n",
       "      <td>98.80</td>\n",
       "      <td>1.20</td>\n",
       "      <td>100896618</td>\n",
       "    </tr>\n",
       "    <tr>\n",
       "      <th>1</th>\n",
       "      <td>Andhra Pradesh</td>\n",
       "      <td>2340676</td>\n",
       "      <td>0</td>\n",
       "      <td>2325943</td>\n",
       "      <td>14733</td>\n",
       "      <td>0.00</td>\n",
       "      <td>99.37</td>\n",
       "      <td>0.63</td>\n",
       "      <td>128500364</td>\n",
       "    </tr>\n",
       "    <tr>\n",
       "      <th>2</th>\n",
       "      <td>Arunachal Pradesh</td>\n",
       "      <td>67049</td>\n",
       "      <td>0</td>\n",
       "      <td>66753</td>\n",
       "      <td>296</td>\n",
       "      <td>0.00</td>\n",
       "      <td>99.56</td>\n",
       "      <td>0.44</td>\n",
       "      <td>658019</td>\n",
       "    </tr>\n",
       "    <tr>\n",
       "      <th>3</th>\n",
       "      <td>Assam</td>\n",
       "      <td>746159</td>\n",
       "      <td>5</td>\n",
       "      <td>738119</td>\n",
       "      <td>8035</td>\n",
       "      <td>0.00</td>\n",
       "      <td>98.92</td>\n",
       "      <td>1.08</td>\n",
       "      <td>290492</td>\n",
       "    </tr>\n",
       "    <tr>\n",
       "      <th>4</th>\n",
       "      <td>Bihar</td>\n",
       "      <td>855267</td>\n",
       "      <td>1</td>\n",
       "      <td>842952</td>\n",
       "      <td>12314</td>\n",
       "      <td>0.00</td>\n",
       "      <td>98.56</td>\n",
       "      <td>1.44</td>\n",
       "      <td>40100376</td>\n",
       "    </tr>\n",
       "    <tr>\n",
       "      <th>5</th>\n",
       "      <td>Chandigarh</td>\n",
       "      <td>100693</td>\n",
       "      <td>0</td>\n",
       "      <td>99508</td>\n",
       "      <td>1185</td>\n",
       "      <td>0.00</td>\n",
       "      <td>98.82</td>\n",
       "      <td>1.18</td>\n",
       "      <td>30501026</td>\n",
       "    </tr>\n",
       "    <tr>\n",
       "      <th>6</th>\n",
       "      <td>Chhattisgarh</td>\n",
       "      <td>1187695</td>\n",
       "      <td>0</td>\n",
       "      <td>1173505</td>\n",
       "      <td>14190</td>\n",
       "      <td>0.00</td>\n",
       "      <td>98.81</td>\n",
       "      <td>1.19</td>\n",
       "      <td>28900667</td>\n",
       "    </tr>\n",
       "    <tr>\n",
       "      <th>7</th>\n",
       "      <td>Dadra and Nagar Haveli and Daman and Diu</td>\n",
       "      <td>11592</td>\n",
       "      <td>0</td>\n",
       "      <td>11588</td>\n",
       "      <td>4</td>\n",
       "      <td>0.00</td>\n",
       "      <td>99.97</td>\n",
       "      <td>0.03</td>\n",
       "      <td>231502578</td>\n",
       "    </tr>\n",
       "    <tr>\n",
       "      <th>8</th>\n",
       "      <td>Delhi</td>\n",
       "      <td>2040910</td>\n",
       "      <td>14</td>\n",
       "      <td>2014230</td>\n",
       "      <td>26666</td>\n",
       "      <td>0.00</td>\n",
       "      <td>98.69</td>\n",
       "      <td>1.31</td>\n",
       "      <td>773997</td>\n",
       "    </tr>\n",
       "    <tr>\n",
       "      <th>9</th>\n",
       "      <td>Goa</td>\n",
       "      <td>263346</td>\n",
       "      <td>3</td>\n",
       "      <td>259329</td>\n",
       "      <td>4014</td>\n",
       "      <td>0.00</td>\n",
       "      <td>98.47</td>\n",
       "      <td>1.52</td>\n",
       "      <td>3772103</td>\n",
       "    </tr>\n",
       "    <tr>\n",
       "      <th>10</th>\n",
       "      <td>Gujarat</td>\n",
       "      <td>1291383</td>\n",
       "      <td>5</td>\n",
       "      <td>1280299</td>\n",
       "      <td>11079</td>\n",
       "      <td>0.00</td>\n",
       "      <td>99.14</td>\n",
       "      <td>0.86</td>\n",
       "      <td>70400153</td>\n",
       "    </tr>\n",
       "    <tr>\n",
       "      <th>11</th>\n",
       "      <td>Haryana</td>\n",
       "      <td>1078903</td>\n",
       "      <td>27</td>\n",
       "      <td>1068121</td>\n",
       "      <td>10755</td>\n",
       "      <td>0.00</td>\n",
       "      <td>99.00</td>\n",
       "      <td>1.00</td>\n",
       "      <td>7503010</td>\n",
       "    </tr>\n",
       "    <tr>\n",
       "      <th>12</th>\n",
       "      <td>Himachal Pradesh</td>\n",
       "      <td>322905</td>\n",
       "      <td>4</td>\n",
       "      <td>318660</td>\n",
       "      <td>4241</td>\n",
       "      <td>0.00</td>\n",
       "      <td>98.69</td>\n",
       "      <td>1.31</td>\n",
       "      <td>3436948</td>\n",
       "    </tr>\n",
       "    <tr>\n",
       "      <th>13</th>\n",
       "      <td>Jammu and Kashmir</td>\n",
       "      <td>482023</td>\n",
       "      <td>0</td>\n",
       "      <td>477231</td>\n",
       "      <td>4792</td>\n",
       "      <td>0.00</td>\n",
       "      <td>99.01</td>\n",
       "      <td>0.99</td>\n",
       "      <td>66001</td>\n",
       "    </tr>\n",
       "    <tr>\n",
       "      <th>14</th>\n",
       "      <td>Jharkhand</td>\n",
       "      <td>443826</td>\n",
       "      <td>1</td>\n",
       "      <td>438491</td>\n",
       "      <td>5334</td>\n",
       "      <td>0.00</td>\n",
       "      <td>98.80</td>\n",
       "      <td>1.20</td>\n",
       "      <td>124904071</td>\n",
       "    </tr>\n",
       "    <tr>\n",
       "      <th>15</th>\n",
       "      <td>Karnataka</td>\n",
       "      <td>4088769</td>\n",
       "      <td>12</td>\n",
       "      <td>4048399</td>\n",
       "      <td>40358</td>\n",
       "      <td>0.00</td>\n",
       "      <td>99.01</td>\n",
       "      <td>0.99</td>\n",
       "      <td>1711947</td>\n",
       "    </tr>\n",
       "    <tr>\n",
       "      <th>16</th>\n",
       "      <td>Kerala</td>\n",
       "      <td>6907241</td>\n",
       "      <td>18</td>\n",
       "      <td>6835181</td>\n",
       "      <td>72042</td>\n",
       "      <td>0.00</td>\n",
       "      <td>98.96</td>\n",
       "      <td>1.04</td>\n",
       "      <td>91702478</td>\n",
       "    </tr>\n",
       "    <tr>\n",
       "      <th>17</th>\n",
       "      <td>Ladakh</td>\n",
       "      <td>29602</td>\n",
       "      <td>0</td>\n",
       "      <td>29371</td>\n",
       "      <td>231</td>\n",
       "      <td>0.00</td>\n",
       "      <td>99.22</td>\n",
       "      <td>0.78</td>\n",
       "      <td>4184959</td>\n",
       "    </tr>\n",
       "    <tr>\n",
       "      <th>18</th>\n",
       "      <td>Lakshadweep</td>\n",
       "      <td>11415</td>\n",
       "      <td>0</td>\n",
       "      <td>11363</td>\n",
       "      <td>52</td>\n",
       "      <td>0.00</td>\n",
       "      <td>99.54</td>\n",
       "      <td>0.46</td>\n",
       "      <td>11700099</td>\n",
       "    </tr>\n",
       "    <tr>\n",
       "      <th>19</th>\n",
       "      <td>Madhya Pradesh</td>\n",
       "      <td>1056351</td>\n",
       "      <td>0</td>\n",
       "      <td>1045565</td>\n",
       "      <td>10786</td>\n",
       "      <td>0.00</td>\n",
       "      <td>98.98</td>\n",
       "      <td>1.02</td>\n",
       "      <td>14999397</td>\n",
       "    </tr>\n",
       "    <tr>\n",
       "      <th>20</th>\n",
       "      <td>Maharashtra</td>\n",
       "      <td>8171048</td>\n",
       "      <td>214</td>\n",
       "      <td>8022276</td>\n",
       "      <td>148558</td>\n",
       "      <td>0.00</td>\n",
       "      <td>98.18</td>\n",
       "      <td>1.82</td>\n",
       "      <td>399001</td>\n",
       "    </tr>\n",
       "    <tr>\n",
       "      <th>21</th>\n",
       "      <td>Manipur</td>\n",
       "      <td>140034</td>\n",
       "      <td>0</td>\n",
       "      <td>137885</td>\n",
       "      <td>2149</td>\n",
       "      <td>0.00</td>\n",
       "      <td>98.47</td>\n",
       "      <td>1.53</td>\n",
       "      <td>47099270</td>\n",
       "    </tr>\n",
       "    <tr>\n",
       "      <th>22</th>\n",
       "      <td>Meghalaya</td>\n",
       "      <td>96983</td>\n",
       "      <td>3</td>\n",
       "      <td>95352</td>\n",
       "      <td>1628</td>\n",
       "      <td>0.00</td>\n",
       "      <td>98.32</td>\n",
       "      <td>1.68</td>\n",
       "      <td>79502477</td>\n",
       "    </tr>\n",
       "    <tr>\n",
       "      <th>23</th>\n",
       "      <td>Mizoram</td>\n",
       "      <td>239560</td>\n",
       "      <td>1</td>\n",
       "      <td>238825</td>\n",
       "      <td>734</td>\n",
       "      <td>0.00</td>\n",
       "      <td>99.69</td>\n",
       "      <td>0.31</td>\n",
       "      <td>1308967</td>\n",
       "    </tr>\n",
       "    <tr>\n",
       "      <th>24</th>\n",
       "      <td>Nagaland</td>\n",
       "      <td>36033</td>\n",
       "      <td>0</td>\n",
       "      <td>35251</td>\n",
       "      <td>782</td>\n",
       "      <td>0.00</td>\n",
       "      <td>97.83</td>\n",
       "      <td>2.17</td>\n",
       "      <td>38157311</td>\n",
       "    </tr>\n",
       "    <tr>\n",
       "      <th>25</th>\n",
       "      <td>Odisha</td>\n",
       "      <td>1348409</td>\n",
       "      <td>59</td>\n",
       "      <td>1339135</td>\n",
       "      <td>9215</td>\n",
       "      <td>0.00</td>\n",
       "      <td>99.31</td>\n",
       "      <td>0.68</td>\n",
       "      <td>19301096</td>\n",
       "    </tr>\n",
       "    <tr>\n",
       "      <th>26</th>\n",
       "      <td>Puducherry</td>\n",
       "      <td>177547</td>\n",
       "      <td>0</td>\n",
       "      <td>175566</td>\n",
       "      <td>1981</td>\n",
       "      <td>0.00</td>\n",
       "      <td>98.88</td>\n",
       "      <td>1.12</td>\n",
       "      <td>2073074</td>\n",
       "    </tr>\n",
       "    <tr>\n",
       "      <th>27</th>\n",
       "      <td>Punjab</td>\n",
       "      <td>793644</td>\n",
       "      <td>1233</td>\n",
       "      <td>773073</td>\n",
       "      <td>19338</td>\n",
       "      <td>0.16</td>\n",
       "      <td>97.41</td>\n",
       "      <td>2.44</td>\n",
       "      <td>34698876</td>\n",
       "    </tr>\n",
       "    <tr>\n",
       "      <th>28</th>\n",
       "      <td>Rajasthan</td>\n",
       "      <td>1326465</td>\n",
       "      <td>2</td>\n",
       "      <td>1316727</td>\n",
       "      <td>9736</td>\n",
       "      <td>0.00</td>\n",
       "      <td>99.27</td>\n",
       "      <td>0.73</td>\n",
       "      <td>1521992</td>\n",
       "    </tr>\n",
       "    <tr>\n",
       "      <th>29</th>\n",
       "      <td>Sikkim</td>\n",
       "      <td>44927</td>\n",
       "      <td>4</td>\n",
       "      <td>44422</td>\n",
       "      <td>501</td>\n",
       "      <td>0.01</td>\n",
       "      <td>98.88</td>\n",
       "      <td>1.12</td>\n",
       "      <td>83697770</td>\n",
       "    </tr>\n",
       "    <tr>\n",
       "      <th>30</th>\n",
       "      <td>Tamil Nadu</td>\n",
       "      <td>3610655</td>\n",
       "      <td>5</td>\n",
       "      <td>3572569</td>\n",
       "      <td>38081</td>\n",
       "      <td>0.00</td>\n",
       "      <td>98.95</td>\n",
       "      <td>1.05</td>\n",
       "      <td>35998752</td>\n",
       "    </tr>\n",
       "    <tr>\n",
       "      <th>31</th>\n",
       "      <td>Telengana</td>\n",
       "      <td>844432</td>\n",
       "      <td>8</td>\n",
       "      <td>840313</td>\n",
       "      <td>4111</td>\n",
       "      <td>0.00</td>\n",
       "      <td>99.51</td>\n",
       "      <td>0.49</td>\n",
       "      <td>69599762</td>\n",
       "    </tr>\n",
       "    <tr>\n",
       "      <th>32</th>\n",
       "      <td>Tripura</td>\n",
       "      <td>108493</td>\n",
       "      <td>1</td>\n",
       "      <td>107550</td>\n",
       "      <td>942</td>\n",
       "      <td>0.00</td>\n",
       "      <td>99.13</td>\n",
       "      <td>0.87</td>\n",
       "      <td>1646050</td>\n",
       "    </tr>\n",
       "    <tr>\n",
       "      <th>33</th>\n",
       "      <td>Uttar Pradesh</td>\n",
       "      <td>2145431</td>\n",
       "      <td>57</td>\n",
       "      <td>2121662</td>\n",
       "      <td>23712</td>\n",
       "      <td>0.00</td>\n",
       "      <td>98.89</td>\n",
       "      <td>1.11</td>\n",
       "      <td>1158040</td>\n",
       "    </tr>\n",
       "    <tr>\n",
       "      <th>34</th>\n",
       "      <td>Uttarakhand</td>\n",
       "      <td>452571</td>\n",
       "      <td>0</td>\n",
       "      <td>444803</td>\n",
       "      <td>7768</td>\n",
       "      <td>0.00</td>\n",
       "      <td>98.28</td>\n",
       "      <td>1.72</td>\n",
       "      <td>85002417</td>\n",
       "    </tr>\n",
       "    <tr>\n",
       "      <th>35</th>\n",
       "      <td>West Bengal</td>\n",
       "      <td>2126282</td>\n",
       "      <td>135</td>\n",
       "      <td>2104592</td>\n",
       "      <td>21555</td>\n",
       "      <td>0.01</td>\n",
       "      <td>98.98</td>\n",
       "      <td>1.01</td>\n",
       "      <td>32199722</td>\n",
       "    </tr>\n",
       "  </tbody>\n",
       "</table>\n",
       "</div>"
      ],
      "text/plain": [
       "                                   State/UTs  Total Cases  Active  Discharged  \\\n",
       "0                        Andaman and Nicobar        10766       0       10637   \n",
       "1                             Andhra Pradesh      2340676       0     2325943   \n",
       "2                          Arunachal Pradesh        67049       0       66753   \n",
       "3                                      Assam       746159       5      738119   \n",
       "4                                      Bihar       855267       1      842952   \n",
       "5                                 Chandigarh       100693       0       99508   \n",
       "6                               Chhattisgarh      1187695       0     1173505   \n",
       "7   Dadra and Nagar Haveli and Daman and Diu        11592       0       11588   \n",
       "8                                      Delhi      2040910      14     2014230   \n",
       "9                                        Goa       263346       3      259329   \n",
       "10                                   Gujarat      1291383       5     1280299   \n",
       "11                                   Haryana      1078903      27     1068121   \n",
       "12                          Himachal Pradesh       322905       4      318660   \n",
       "13                         Jammu and Kashmir       482023       0      477231   \n",
       "14                                 Jharkhand       443826       1      438491   \n",
       "15                                 Karnataka      4088769      12     4048399   \n",
       "16                                    Kerala      6907241      18     6835181   \n",
       "17                                    Ladakh        29602       0       29371   \n",
       "18                               Lakshadweep        11415       0       11363   \n",
       "19                            Madhya Pradesh      1056351       0     1045565   \n",
       "20                               Maharashtra      8171048     214     8022276   \n",
       "21                                   Manipur       140034       0      137885   \n",
       "22                                 Meghalaya        96983       3       95352   \n",
       "23                                   Mizoram       239560       1      238825   \n",
       "24                                  Nagaland        36033       0       35251   \n",
       "25                                    Odisha      1348409      59     1339135   \n",
       "26                                Puducherry       177547       0      175566   \n",
       "27                                    Punjab       793644    1233      773073   \n",
       "28                                 Rajasthan      1326465       2     1316727   \n",
       "29                                    Sikkim        44927       4       44422   \n",
       "30                                Tamil Nadu      3610655       5     3572569   \n",
       "31                                 Telengana       844432       8      840313   \n",
       "32                                   Tripura       108493       1      107550   \n",
       "33                             Uttar Pradesh      2145431      57     2121662   \n",
       "34                               Uttarakhand       452571       0      444803   \n",
       "35                               West Bengal      2126282     135     2104592   \n",
       "\n",
       "    Deaths  Active Ratio  Discharge Ratio  Death Ratio  Population  \n",
       "0      129          0.00            98.80         1.20   100896618  \n",
       "1    14733          0.00            99.37         0.63   128500364  \n",
       "2      296          0.00            99.56         0.44      658019  \n",
       "3     8035          0.00            98.92         1.08      290492  \n",
       "4    12314          0.00            98.56         1.44    40100376  \n",
       "5     1185          0.00            98.82         1.18    30501026  \n",
       "6    14190          0.00            98.81         1.19    28900667  \n",
       "7        4          0.00            99.97         0.03   231502578  \n",
       "8    26666          0.00            98.69         1.31      773997  \n",
       "9     4014          0.00            98.47         1.52     3772103  \n",
       "10   11079          0.00            99.14         0.86    70400153  \n",
       "11   10755          0.00            99.00         1.00     7503010  \n",
       "12    4241          0.00            98.69         1.31     3436948  \n",
       "13    4792          0.00            99.01         0.99       66001  \n",
       "14    5334          0.00            98.80         1.20   124904071  \n",
       "15   40358          0.00            99.01         0.99     1711947  \n",
       "16   72042          0.00            98.96         1.04    91702478  \n",
       "17     231          0.00            99.22         0.78     4184959  \n",
       "18      52          0.00            99.54         0.46    11700099  \n",
       "19   10786          0.00            98.98         1.02    14999397  \n",
       "20  148558          0.00            98.18         1.82      399001  \n",
       "21    2149          0.00            98.47         1.53    47099270  \n",
       "22    1628          0.00            98.32         1.68    79502477  \n",
       "23     734          0.00            99.69         0.31     1308967  \n",
       "24     782          0.00            97.83         2.17    38157311  \n",
       "25    9215          0.00            99.31         0.68    19301096  \n",
       "26    1981          0.00            98.88         1.12     2073074  \n",
       "27   19338          0.16            97.41         2.44    34698876  \n",
       "28    9736          0.00            99.27         0.73     1521992  \n",
       "29     501          0.01            98.88         1.12    83697770  \n",
       "30   38081          0.00            98.95         1.05    35998752  \n",
       "31    4111          0.00            99.51         0.49    69599762  \n",
       "32     942          0.00            99.13         0.87     1646050  \n",
       "33   23712          0.00            98.89         1.11     1158040  \n",
       "34    7768          0.00            98.28         1.72    85002417  \n",
       "35   21555          0.01            98.98         1.01    32199722  "
      ]
     },
     "execution_count": 125,
     "metadata": {},
     "output_type": "execute_result"
    }
   ],
   "source": [
    "df = pd.read_csv(r\"C:\\Users\\Aman Dange\\Downloads\\archive (1)\\Latest Covid-19 India Status.csv\")\n",
    "df"
   ]
  },
  {
   "cell_type": "markdown",
   "metadata": {
    "papermill": {
     "duration": 0.045886,
     "end_time": "2021-09-05T05:32:15.455010",
     "exception": false,
     "start_time": "2021-09-05T05:32:15.409124",
     "status": "completed"
    },
    "tags": []
   },
   "source": [
    "* Above dataframe shows the list of all indian state with covid information."
   ]
  },
  {
   "cell_type": "markdown",
   "metadata": {
    "papermill": {
     "duration": 0.045279,
     "end_time": "2021-09-05T05:32:15.547959",
     "exception": false,
     "start_time": "2021-09-05T05:32:15.502680",
     "status": "completed"
    },
    "tags": []
   },
   "source": [
    "## Step 3: Exploratory Data Analysis (EDA)"
   ]
  },
  {
   "cell_type": "code",
   "execution_count": 126,
   "metadata": {
    "execution": {
     "iopub.execute_input": "2021-09-05T05:32:15.643808Z",
     "iopub.status.busy": "2021-09-05T05:32:15.642839Z",
     "iopub.status.idle": "2021-09-05T05:32:15.647261Z",
     "shell.execute_reply": "2021-09-05T05:32:15.647794Z",
     "shell.execute_reply.started": "2021-09-05T05:29:34.668107Z"
    },
    "papermill": {
     "duration": 0.056164,
     "end_time": "2021-09-05T05:32:15.647973",
     "exception": false,
     "start_time": "2021-09-05T05:32:15.591809",
     "status": "completed"
    },
    "tags": []
   },
   "outputs": [
    {
     "data": {
      "text/plain": [
       "(36, 9)"
      ]
     },
     "execution_count": 126,
     "metadata": {},
     "output_type": "execute_result"
    }
   ],
   "source": [
    "# Shape of the dataset\n",
    "\n",
    "df.shape"
   ]
  },
  {
   "cell_type": "code",
   "execution_count": 127,
   "metadata": {
    "execution": {
     "iopub.execute_input": "2021-09-05T05:32:15.744866Z",
     "iopub.status.busy": "2021-09-05T05:32:15.743926Z",
     "iopub.status.idle": "2021-09-05T05:32:15.748482Z",
     "shell.execute_reply": "2021-09-05T05:32:15.747941Z",
     "shell.execute_reply.started": "2021-09-05T05:29:34.674808Z"
    },
    "papermill": {
     "duration": 0.054075,
     "end_time": "2021-09-05T05:32:15.748623",
     "exception": false,
     "start_time": "2021-09-05T05:32:15.694548",
     "status": "completed"
    },
    "tags": []
   },
   "outputs": [
    {
     "data": {
      "text/plain": [
       "Index(['State/UTs', 'Total Cases', 'Active', 'Discharged', 'Deaths',\n",
       "       'Active Ratio', 'Discharge Ratio', 'Death Ratio', 'Population'],\n",
       "      dtype='object')"
      ]
     },
     "execution_count": 127,
     "metadata": {},
     "output_type": "execute_result"
    }
   ],
   "source": [
    "# Getting list of all columns present in the dataframe\n",
    "\n",
    "df.columns"
   ]
  },
  {
   "cell_type": "code",
   "execution_count": 128,
   "metadata": {
    "execution": {
     "iopub.execute_input": "2021-09-05T05:32:15.852231Z",
     "iopub.status.busy": "2021-09-05T05:32:15.851306Z",
     "iopub.status.idle": "2021-09-05T05:32:15.856230Z",
     "shell.execute_reply": "2021-09-05T05:32:15.855670Z",
     "shell.execute_reply.started": "2021-09-05T05:29:34.688744Z"
    },
    "papermill": {
     "duration": 0.062042,
     "end_time": "2021-09-05T05:32:15.856373",
     "exception": false,
     "start_time": "2021-09-05T05:32:15.794331",
     "status": "completed"
    },
    "tags": []
   },
   "outputs": [
    {
     "data": {
      "text/plain": [
       "0"
      ]
     },
     "execution_count": 128,
     "metadata": {},
     "output_type": "execute_result"
    }
   ],
   "source": [
    "# Checking for the duplicated value\n",
    "\n",
    "df.duplicated().sum()"
   ]
  },
  {
   "cell_type": "code",
   "execution_count": 129,
   "metadata": {
    "execution": {
     "iopub.execute_input": "2021-09-05T05:32:15.967253Z",
     "iopub.status.busy": "2021-09-05T05:32:15.966544Z",
     "iopub.status.idle": "2021-09-05T05:32:15.971994Z",
     "shell.execute_reply": "2021-09-05T05:32:15.971418Z",
     "shell.execute_reply.started": "2021-09-05T05:29:34.714940Z"
    },
    "papermill": {
     "duration": 0.069426,
     "end_time": "2021-09-05T05:32:15.972154",
     "exception": false,
     "start_time": "2021-09-05T05:32:15.902728",
     "status": "completed"
    },
    "tags": []
   },
   "outputs": [
    {
     "data": {
      "text/html": [
       "<div>\n",
       "<style scoped>\n",
       "    .dataframe tbody tr th:only-of-type {\n",
       "        vertical-align: middle;\n",
       "    }\n",
       "\n",
       "    .dataframe tbody tr th {\n",
       "        vertical-align: top;\n",
       "    }\n",
       "\n",
       "    .dataframe thead th {\n",
       "        text-align: right;\n",
       "    }\n",
       "</style>\n",
       "<table border=\"1\" class=\"dataframe\">\n",
       "  <thead>\n",
       "    <tr style=\"text-align: right;\">\n",
       "      <th></th>\n",
       "      <th>State/UTs</th>\n",
       "      <th>Total Cases</th>\n",
       "      <th>Active</th>\n",
       "      <th>Discharged</th>\n",
       "      <th>Deaths</th>\n",
       "      <th>Active Ratio</th>\n",
       "      <th>Discharge Ratio</th>\n",
       "      <th>Death Ratio</th>\n",
       "      <th>Population</th>\n",
       "    </tr>\n",
       "  </thead>\n",
       "  <tbody>\n",
       "    <tr>\n",
       "      <th>0</th>\n",
       "      <td>Andaman and Nicobar</td>\n",
       "      <td>10766</td>\n",
       "      <td>0</td>\n",
       "      <td>10637</td>\n",
       "      <td>129</td>\n",
       "      <td>0.0</td>\n",
       "      <td>98.80</td>\n",
       "      <td>1.20</td>\n",
       "      <td>100896618</td>\n",
       "    </tr>\n",
       "    <tr>\n",
       "      <th>1</th>\n",
       "      <td>Andhra Pradesh</td>\n",
       "      <td>2340676</td>\n",
       "      <td>0</td>\n",
       "      <td>2325943</td>\n",
       "      <td>14733</td>\n",
       "      <td>0.0</td>\n",
       "      <td>99.37</td>\n",
       "      <td>0.63</td>\n",
       "      <td>128500364</td>\n",
       "    </tr>\n",
       "    <tr>\n",
       "      <th>2</th>\n",
       "      <td>Arunachal Pradesh</td>\n",
       "      <td>67049</td>\n",
       "      <td>0</td>\n",
       "      <td>66753</td>\n",
       "      <td>296</td>\n",
       "      <td>0.0</td>\n",
       "      <td>99.56</td>\n",
       "      <td>0.44</td>\n",
       "      <td>658019</td>\n",
       "    </tr>\n",
       "    <tr>\n",
       "      <th>3</th>\n",
       "      <td>Assam</td>\n",
       "      <td>746159</td>\n",
       "      <td>5</td>\n",
       "      <td>738119</td>\n",
       "      <td>8035</td>\n",
       "      <td>0.0</td>\n",
       "      <td>98.92</td>\n",
       "      <td>1.08</td>\n",
       "      <td>290492</td>\n",
       "    </tr>\n",
       "    <tr>\n",
       "      <th>4</th>\n",
       "      <td>Bihar</td>\n",
       "      <td>855267</td>\n",
       "      <td>1</td>\n",
       "      <td>842952</td>\n",
       "      <td>12314</td>\n",
       "      <td>0.0</td>\n",
       "      <td>98.56</td>\n",
       "      <td>1.44</td>\n",
       "      <td>40100376</td>\n",
       "    </tr>\n",
       "    <tr>\n",
       "      <th>5</th>\n",
       "      <td>Chandigarh</td>\n",
       "      <td>100693</td>\n",
       "      <td>0</td>\n",
       "      <td>99508</td>\n",
       "      <td>1185</td>\n",
       "      <td>0.0</td>\n",
       "      <td>98.82</td>\n",
       "      <td>1.18</td>\n",
       "      <td>30501026</td>\n",
       "    </tr>\n",
       "    <tr>\n",
       "      <th>6</th>\n",
       "      <td>Chhattisgarh</td>\n",
       "      <td>1187695</td>\n",
       "      <td>0</td>\n",
       "      <td>1173505</td>\n",
       "      <td>14190</td>\n",
       "      <td>0.0</td>\n",
       "      <td>98.81</td>\n",
       "      <td>1.19</td>\n",
       "      <td>28900667</td>\n",
       "    </tr>\n",
       "    <tr>\n",
       "      <th>7</th>\n",
       "      <td>Daman and Diu</td>\n",
       "      <td>11592</td>\n",
       "      <td>0</td>\n",
       "      <td>11588</td>\n",
       "      <td>4</td>\n",
       "      <td>0.0</td>\n",
       "      <td>99.97</td>\n",
       "      <td>0.03</td>\n",
       "      <td>231502578</td>\n",
       "    </tr>\n",
       "  </tbody>\n",
       "</table>\n",
       "</div>"
      ],
      "text/plain": [
       "             State/UTs  Total Cases  Active  Discharged  Deaths  Active Ratio  \\\n",
       "0  Andaman and Nicobar        10766       0       10637     129           0.0   \n",
       "1       Andhra Pradesh      2340676       0     2325943   14733           0.0   \n",
       "2    Arunachal Pradesh        67049       0       66753     296           0.0   \n",
       "3                Assam       746159       5      738119    8035           0.0   \n",
       "4                Bihar       855267       1      842952   12314           0.0   \n",
       "5           Chandigarh       100693       0       99508    1185           0.0   \n",
       "6         Chhattisgarh      1187695       0     1173505   14190           0.0   \n",
       "7        Daman and Diu        11592       0       11588       4           0.0   \n",
       "\n",
       "   Discharge Ratio  Death Ratio  Population  \n",
       "0            98.80         1.20   100896618  \n",
       "1            99.37         0.63   128500364  \n",
       "2            99.56         0.44      658019  \n",
       "3            98.92         1.08      290492  \n",
       "4            98.56         1.44    40100376  \n",
       "5            98.82         1.18    30501026  \n",
       "6            98.81         1.19    28900667  \n",
       "7            99.97         0.03   231502578  "
      ]
     },
     "execution_count": 129,
     "metadata": {},
     "output_type": "execute_result"
    }
   ],
   "source": [
    "# Replacing long name by short name\n",
    "\n",
    "df = df.replace('Dadra and Nagar Haveli and Daman and Diu', 'Daman and Diu')\n",
    "df.head(8)"
   ]
  },
  {
   "cell_type": "code",
   "execution_count": 130,
   "metadata": {
    "execution": {
     "iopub.execute_input": "2021-09-05T05:32:16.090447Z",
     "iopub.status.busy": "2021-09-05T05:32:16.089529Z",
     "iopub.status.idle": "2021-09-05T05:32:16.094182Z",
     "shell.execute_reply": "2021-09-05T05:32:16.093580Z",
     "shell.execute_reply.started": "2021-09-05T05:29:34.737217Z"
    },
    "papermill": {
     "duration": 0.073388,
     "end_time": "2021-09-05T05:32:16.094351",
     "exception": false,
     "start_time": "2021-09-05T05:32:16.020963",
     "status": "completed"
    },
    "tags": []
   },
   "outputs": [
    {
     "name": "stdout",
     "output_type": "stream",
     "text": [
      "<class 'pandas.core.frame.DataFrame'>\n",
      "RangeIndex: 36 entries, 0 to 35\n",
      "Data columns (total 9 columns):\n",
      " #   Column           Non-Null Count  Dtype  \n",
      "---  ------           --------------  -----  \n",
      " 0   State/UTs        36 non-null     object \n",
      " 1   Total Cases      36 non-null     int64  \n",
      " 2   Active           36 non-null     int64  \n",
      " 3   Discharged       36 non-null     int64  \n",
      " 4   Deaths           36 non-null     int64  \n",
      " 5   Active Ratio     36 non-null     float64\n",
      " 6   Discharge Ratio  36 non-null     float64\n",
      " 7   Death Ratio      36 non-null     float64\n",
      " 8   Population       36 non-null     int64  \n",
      "dtypes: float64(3), int64(5), object(1)\n",
      "memory usage: 2.7+ KB\n"
     ]
    }
   ],
   "source": [
    "# Information about dataset\n",
    "\n",
    "df.info()"
   ]
  },
  {
   "cell_type": "code",
   "execution_count": 131,
   "metadata": {
    "execution": {
     "iopub.execute_input": "2021-09-05T05:32:16.200304Z",
     "iopub.status.busy": "2021-09-05T05:32:16.199246Z",
     "iopub.status.idle": "2021-09-05T05:32:16.234761Z",
     "shell.execute_reply": "2021-09-05T05:32:16.234141Z",
     "shell.execute_reply.started": "2021-09-05T05:29:34.759558Z"
    },
    "papermill": {
     "duration": 0.092954,
     "end_time": "2021-09-05T05:32:16.234919",
     "exception": false,
     "start_time": "2021-09-05T05:32:16.141965",
     "status": "completed"
    },
    "tags": []
   },
   "outputs": [
    {
     "data": {
      "text/html": [
       "<div>\n",
       "<style scoped>\n",
       "    .dataframe tbody tr th:only-of-type {\n",
       "        vertical-align: middle;\n",
       "    }\n",
       "\n",
       "    .dataframe tbody tr th {\n",
       "        vertical-align: top;\n",
       "    }\n",
       "\n",
       "    .dataframe thead th {\n",
       "        text-align: right;\n",
       "    }\n",
       "</style>\n",
       "<table border=\"1\" class=\"dataframe\">\n",
       "  <thead>\n",
       "    <tr style=\"text-align: right;\">\n",
       "      <th></th>\n",
       "      <th>Total Cases</th>\n",
       "      <th>Active</th>\n",
       "      <th>Discharged</th>\n",
       "      <th>Deaths</th>\n",
       "      <th>Active Ratio</th>\n",
       "      <th>Discharge Ratio</th>\n",
       "      <th>Death Ratio</th>\n",
       "      <th>Population</th>\n",
       "    </tr>\n",
       "  </thead>\n",
       "  <tbody>\n",
       "    <tr>\n",
       "      <th>count</th>\n",
       "      <td>3.600000e+01</td>\n",
       "      <td>36.000000</td>\n",
       "      <td>3.600000e+01</td>\n",
       "      <td>36.000000</td>\n",
       "      <td>36.000000</td>\n",
       "      <td>36.000000</td>\n",
       "      <td>36.000000</td>\n",
       "      <td>3.600000e+01</td>\n",
       "    </tr>\n",
       "    <tr>\n",
       "      <th>mean</th>\n",
       "      <td>1.249975e+06</td>\n",
       "      <td>50.333333</td>\n",
       "      <td>1.235146e+06</td>\n",
       "      <td>14778.527778</td>\n",
       "      <td>0.005000</td>\n",
       "      <td>98.897222</td>\n",
       "      <td>1.097778</td>\n",
       "      <td>3.971861e+07</td>\n",
       "    </tr>\n",
       "    <tr>\n",
       "      <th>std</th>\n",
       "      <td>1.846038e+06</td>\n",
       "      <td>207.118048</td>\n",
       "      <td>1.820328e+06</td>\n",
       "      <td>27221.140636</td>\n",
       "      <td>0.026673</td>\n",
       "      <td>0.506854</td>\n",
       "      <td>0.494791</td>\n",
       "      <td>5.050913e+07</td>\n",
       "    </tr>\n",
       "    <tr>\n",
       "      <th>min</th>\n",
       "      <td>1.076600e+04</td>\n",
       "      <td>0.000000</td>\n",
       "      <td>1.063700e+04</td>\n",
       "      <td>4.000000</td>\n",
       "      <td>0.000000</td>\n",
       "      <td>97.410000</td>\n",
       "      <td>0.030000</td>\n",
       "      <td>6.600100e+04</td>\n",
       "    </tr>\n",
       "    <tr>\n",
       "      <th>25%</th>\n",
       "      <td>1.065430e+05</td>\n",
       "      <td>0.000000</td>\n",
       "      <td>1.055395e+05</td>\n",
       "      <td>1124.250000</td>\n",
       "      <td>0.000000</td>\n",
       "      <td>98.690000</td>\n",
       "      <td>0.840000</td>\n",
       "      <td>1.695473e+06</td>\n",
       "    </tr>\n",
       "    <tr>\n",
       "      <th>50%</th>\n",
       "      <td>6.140910e+05</td>\n",
       "      <td>1.500000</td>\n",
       "      <td>6.076750e+05</td>\n",
       "      <td>6551.000000</td>\n",
       "      <td>0.000000</td>\n",
       "      <td>98.935000</td>\n",
       "      <td>1.065000</td>\n",
       "      <td>2.410088e+07</td>\n",
       "    </tr>\n",
       "    <tr>\n",
       "      <th>75%</th>\n",
       "      <td>1.331951e+06</td>\n",
       "      <td>9.000000</td>\n",
       "      <td>1.322329e+06</td>\n",
       "      <td>14325.750000</td>\n",
       "      <td>0.000000</td>\n",
       "      <td>99.160000</td>\n",
       "      <td>1.310000</td>\n",
       "      <td>6.979986e+07</td>\n",
       "    </tr>\n",
       "    <tr>\n",
       "      <th>max</th>\n",
       "      <td>8.171048e+06</td>\n",
       "      <td>1233.000000</td>\n",
       "      <td>8.022276e+06</td>\n",
       "      <td>148558.000000</td>\n",
       "      <td>0.160000</td>\n",
       "      <td>99.970000</td>\n",
       "      <td>2.440000</td>\n",
       "      <td>2.315026e+08</td>\n",
       "    </tr>\n",
       "  </tbody>\n",
       "</table>\n",
       "</div>"
      ],
      "text/plain": [
       "        Total Cases       Active    Discharged         Deaths  Active Ratio  \\\n",
       "count  3.600000e+01    36.000000  3.600000e+01      36.000000     36.000000   \n",
       "mean   1.249975e+06    50.333333  1.235146e+06   14778.527778      0.005000   \n",
       "std    1.846038e+06   207.118048  1.820328e+06   27221.140636      0.026673   \n",
       "min    1.076600e+04     0.000000  1.063700e+04       4.000000      0.000000   \n",
       "25%    1.065430e+05     0.000000  1.055395e+05    1124.250000      0.000000   \n",
       "50%    6.140910e+05     1.500000  6.076750e+05    6551.000000      0.000000   \n",
       "75%    1.331951e+06     9.000000  1.322329e+06   14325.750000      0.000000   \n",
       "max    8.171048e+06  1233.000000  8.022276e+06  148558.000000      0.160000   \n",
       "\n",
       "       Discharge Ratio  Death Ratio    Population  \n",
       "count        36.000000    36.000000  3.600000e+01  \n",
       "mean         98.897222     1.097778  3.971861e+07  \n",
       "std           0.506854     0.494791  5.050913e+07  \n",
       "min          97.410000     0.030000  6.600100e+04  \n",
       "25%          98.690000     0.840000  1.695473e+06  \n",
       "50%          98.935000     1.065000  2.410088e+07  \n",
       "75%          99.160000     1.310000  6.979986e+07  \n",
       "max          99.970000     2.440000  2.315026e+08  "
      ]
     },
     "execution_count": 131,
     "metadata": {},
     "output_type": "execute_result"
    }
   ],
   "source": [
    "# Statistical measurement of the dataset\n",
    "\n",
    "df.describe()"
   ]
  },
  {
   "cell_type": "code",
   "execution_count": 132,
   "metadata": {
    "execution": {
     "iopub.execute_input": "2021-09-05T05:32:16.336474Z",
     "iopub.status.busy": "2021-09-05T05:32:16.333461Z",
     "iopub.status.idle": "2021-09-05T05:32:16.341534Z",
     "shell.execute_reply": "2021-09-05T05:32:16.340948Z",
     "shell.execute_reply.started": "2021-09-05T05:29:34.808893Z"
    },
    "papermill": {
     "duration": 0.060679,
     "end_time": "2021-09-05T05:32:16.341683",
     "exception": false,
     "start_time": "2021-09-05T05:32:16.281004",
     "status": "completed"
    },
    "scrolled": true,
    "tags": []
   },
   "outputs": [
    {
     "data": {
      "text/plain": [
       "State/UTs          0\n",
       "Total Cases        0\n",
       "Active             0\n",
       "Discharged         0\n",
       "Deaths             0\n",
       "Active Ratio       0\n",
       "Discharge Ratio    0\n",
       "Death Ratio        0\n",
       "Population         0\n",
       "dtype: int64"
      ]
     },
     "execution_count": 132,
     "metadata": {},
     "output_type": "execute_result"
    }
   ],
   "source": [
    "# Checking for any missing value\n",
    "\n",
    "df.isnull().sum()"
   ]
  },
  {
   "cell_type": "code",
   "execution_count": 134,
   "metadata": {
    "execution": {
     "iopub.execute_input": "2021-09-05T05:32:17.025558Z",
     "iopub.status.busy": "2021-09-05T05:32:17.024542Z",
     "iopub.status.idle": "2021-09-05T05:32:17.046683Z",
     "shell.execute_reply": "2021-09-05T05:32:17.045424Z",
     "shell.execute_reply.started": "2021-09-05T05:29:35.277029Z"
    },
    "papermill": {
     "duration": 0.078522,
     "end_time": "2021-09-05T05:32:17.046918",
     "exception": false,
     "start_time": "2021-09-05T05:32:16.968396",
     "status": "completed"
    },
    "tags": []
   },
   "outputs": [
    {
     "data": {
      "text/html": [
       "<div>\n",
       "<style scoped>\n",
       "    .dataframe tbody tr th:only-of-type {\n",
       "        vertical-align: middle;\n",
       "    }\n",
       "\n",
       "    .dataframe tbody tr th {\n",
       "        vertical-align: top;\n",
       "    }\n",
       "\n",
       "    .dataframe thead th {\n",
       "        text-align: right;\n",
       "    }\n",
       "</style>\n",
       "<table border=\"1\" class=\"dataframe\">\n",
       "  <thead>\n",
       "    <tr style=\"text-align: right;\">\n",
       "      <th></th>\n",
       "      <th>Total Cases</th>\n",
       "      <th>Active</th>\n",
       "      <th>Discharged</th>\n",
       "      <th>Deaths</th>\n",
       "      <th>Active Ratio</th>\n",
       "      <th>Discharge Ratio</th>\n",
       "      <th>Death Ratio</th>\n",
       "      <th>Population</th>\n",
       "    </tr>\n",
       "  </thead>\n",
       "  <tbody>\n",
       "    <tr>\n",
       "      <th>Total Cases</th>\n",
       "      <td>1.000000</td>\n",
       "      <td>0.091469</td>\n",
       "      <td>0.999988</td>\n",
       "      <td>0.944591</td>\n",
       "      <td>-0.044274</td>\n",
       "      <td>-0.113942</td>\n",
       "      <td>0.118865</td>\n",
       "      <td>-0.067049</td>\n",
       "    </tr>\n",
       "    <tr>\n",
       "      <th>Active</th>\n",
       "      <td>0.091469</td>\n",
       "      <td>1.000000</td>\n",
       "      <td>0.089881</td>\n",
       "      <td>0.184970</td>\n",
       "      <td>0.980640</td>\n",
       "      <td>-0.529588</td>\n",
       "      <td>0.492912</td>\n",
       "      <td>-0.054090</td>\n",
       "    </tr>\n",
       "    <tr>\n",
       "      <th>Discharged</th>\n",
       "      <td>0.999988</td>\n",
       "      <td>0.089881</td>\n",
       "      <td>1.000000</td>\n",
       "      <td>0.942957</td>\n",
       "      <td>-0.045396</td>\n",
       "      <td>-0.111749</td>\n",
       "      <td>0.116673</td>\n",
       "      <td>-0.066251</td>\n",
       "    </tr>\n",
       "    <tr>\n",
       "      <th>Deaths</th>\n",
       "      <td>0.944591</td>\n",
       "      <td>0.184970</td>\n",
       "      <td>0.942957</td>\n",
       "      <td>1.000000</td>\n",
       "      <td>0.025756</td>\n",
       "      <td>-0.250229</td>\n",
       "      <td>0.255081</td>\n",
       "      <td>-0.116254</td>\n",
       "    </tr>\n",
       "    <tr>\n",
       "      <th>Active Ratio</th>\n",
       "      <td>-0.044274</td>\n",
       "      <td>0.980640</td>\n",
       "      <td>-0.045396</td>\n",
       "      <td>0.025756</td>\n",
       "      <td>1.000000</td>\n",
       "      <td>-0.501512</td>\n",
       "      <td>0.463513</td>\n",
       "      <td>-0.009301</td>\n",
       "    </tr>\n",
       "    <tr>\n",
       "      <th>Discharge Ratio</th>\n",
       "      <td>-0.113942</td>\n",
       "      <td>-0.529588</td>\n",
       "      <td>-0.111749</td>\n",
       "      <td>-0.250229</td>\n",
       "      <td>-0.501512</td>\n",
       "      <td>1.000000</td>\n",
       "      <td>-0.999043</td>\n",
       "      <td>0.162089</td>\n",
       "    </tr>\n",
       "    <tr>\n",
       "      <th>Death Ratio</th>\n",
       "      <td>0.118865</td>\n",
       "      <td>0.492912</td>\n",
       "      <td>0.116673</td>\n",
       "      <td>0.255081</td>\n",
       "      <td>0.463513</td>\n",
       "      <td>-0.999043</td>\n",
       "      <td>1.000000</td>\n",
       "      <td>-0.164450</td>\n",
       "    </tr>\n",
       "    <tr>\n",
       "      <th>Population</th>\n",
       "      <td>-0.067049</td>\n",
       "      <td>-0.054090</td>\n",
       "      <td>-0.066251</td>\n",
       "      <td>-0.116254</td>\n",
       "      <td>-0.009301</td>\n",
       "      <td>0.162089</td>\n",
       "      <td>-0.164450</td>\n",
       "      <td>1.000000</td>\n",
       "    </tr>\n",
       "  </tbody>\n",
       "</table>\n",
       "</div>"
      ],
      "text/plain": [
       "                 Total Cases    Active  Discharged    Deaths  Active Ratio  \\\n",
       "Total Cases         1.000000  0.091469    0.999988  0.944591     -0.044274   \n",
       "Active              0.091469  1.000000    0.089881  0.184970      0.980640   \n",
       "Discharged          0.999988  0.089881    1.000000  0.942957     -0.045396   \n",
       "Deaths              0.944591  0.184970    0.942957  1.000000      0.025756   \n",
       "Active Ratio       -0.044274  0.980640   -0.045396  0.025756      1.000000   \n",
       "Discharge Ratio    -0.113942 -0.529588   -0.111749 -0.250229     -0.501512   \n",
       "Death Ratio         0.118865  0.492912    0.116673  0.255081      0.463513   \n",
       "Population         -0.067049 -0.054090   -0.066251 -0.116254     -0.009301   \n",
       "\n",
       "                 Discharge Ratio  Death Ratio  Population  \n",
       "Total Cases            -0.113942     0.118865   -0.067049  \n",
       "Active                 -0.529588     0.492912   -0.054090  \n",
       "Discharged             -0.111749     0.116673   -0.066251  \n",
       "Deaths                 -0.250229     0.255081   -0.116254  \n",
       "Active Ratio           -0.501512     0.463513   -0.009301  \n",
       "Discharge Ratio         1.000000    -0.999043    0.162089  \n",
       "Death Ratio            -0.999043     1.000000   -0.164450  \n",
       "Population              0.162089    -0.164450    1.000000  "
      ]
     },
     "execution_count": 134,
     "metadata": {},
     "output_type": "execute_result"
    }
   ],
   "source": [
    "# Checking correlations within variables\n",
    "\n",
    "df.corr()"
   ]
  },
  {
   "cell_type": "markdown",
   "metadata": {
    "papermill": {
     "duration": 0.051951,
     "end_time": "2021-09-05T05:32:17.963890",
     "exception": false,
     "start_time": "2021-09-05T05:32:17.911939",
     "status": "completed"
    },
    "tags": []
   },
   "source": [
    "## Step 4: Data Visualization"
   ]
  },
  {
   "cell_type": "markdown",
   "metadata": {},
   "source": [
    "## Bar plot\n",
    "\n",
    "A bar plot is a common way to represent categorical data using rectangular bars. "
   ]
  },
  {
   "cell_type": "code",
   "execution_count": 135,
   "metadata": {
    "execution": {
     "iopub.execute_input": "2021-09-05T05:32:18.191257Z",
     "iopub.status.busy": "2021-09-05T05:32:18.189084Z",
     "iopub.status.idle": "2021-09-05T05:32:18.745815Z",
     "shell.execute_reply": "2021-09-05T05:32:18.745259Z",
     "shell.execute_reply.started": "2021-09-05T05:29:35.880122Z"
    },
    "papermill": {
     "duration": 0.623711,
     "end_time": "2021-09-05T05:32:18.745970",
     "exception": false,
     "start_time": "2021-09-05T05:32:18.122259",
     "status": "completed"
    },
    "tags": []
   },
   "outputs": [
    {
     "data": {
      "image/png": "[encoded data removed]",
      "text/plain": [
       "<Figure size 720x720 with 1 Axes>"
      ]
     },
     "metadata": {
      "needs_background": "light"
     },
     "output_type": "display_data"
    }
   ],
   "source": [
    "plt.figure(figsize=(10, 10))\n",
    "sns.barplot(data = df, y=\"State/UTs\", x=\"Total Cases\")\n",
    "plt.xlabel('Total Cases')\n",
    "plt.ylabel('States Name')\n",
    "plt.title('Bar Plot')\n",
    "plt.show()"
   ]
  },
  {
   "cell_type": "markdown",
   "metadata": {
    "papermill": {
     "duration": 0.054144,
     "end_time": "2021-09-05T05:32:18.866732",
     "exception": false,
     "start_time": "2021-09-05T05:32:18.812588",
     "status": "completed"
    },
    "tags": []
   },
   "source": [
    "* In above plot we can see that Maharastra have maximum number of covid cases."
   ]
  },
  {
   "cell_type": "markdown",
   "metadata": {},
   "source": [
    "## Scatter plot\n",
    "\n",
    "A scatter plot is a way to visualize the relationship between two continuous variables."
   ]
  },
  {
   "cell_type": "code",
   "execution_count": 136,
   "metadata": {
    "execution": {
     "iopub.execute_input": "2021-09-05T05:32:20.654845Z",
     "iopub.status.busy": "2021-09-05T05:32:20.654157Z",
     "iopub.status.idle": "2021-09-05T05:32:20.911985Z",
     "shell.execute_reply": "2021-09-05T05:32:20.912465Z",
     "shell.execute_reply.started": "2021-09-05T05:29:37.666673Z"
    },
    "papermill": {
     "duration": 0.321718,
     "end_time": "2021-09-05T05:32:20.912760",
     "exception": false,
     "start_time": "2021-09-05T05:32:20.591042",
     "status": "completed"
    },
    "tags": []
   },
   "outputs": [
    {
     "data": {
      "image/png": "[encoded data removed]",
      "text/plain": [
       "<Figure size 720x792 with 1 Axes>"
      ]
     },
     "metadata": {
      "needs_background": "light"
     },
     "output_type": "display_data"
    }
   ],
   "source": [
    "plt.figure(figsize=(10, 11))\n",
    "sns.scatterplot(data=df, x='Active Ratio',y='Death Ratio', hue='State/UTs')\n",
    "plt.show()"
   ]
  },
  {
   "cell_type": "markdown",
   "metadata": {
    "papermill": {
     "duration": 0.058096,
     "end_time": "2021-09-05T05:32:21.029913",
     "exception": false,
     "start_time": "2021-09-05T05:32:20.971817",
     "status": "completed"
    },
    "tags": []
   },
   "source": [
    "* Here we can see that have the highest Active Ratio i.e 24.95%.\n",
    "* we can again see that Punjab have highest Death Ratio of 2.72%, while its active ratio is 0.13%.\n",
    "* In similar way we can prepare a detailed report on the Active and Death Ratio."
   ]
  },
  {
   "cell_type": "markdown",
   "metadata": {},
   "source": [
    "## Pair plot\n",
    "\n",
    "A pair plot, also known as a scatterplot matrix, is a grid of scatterplots that shows the relationships between pairs of variables in a dataset"
   ]
  },
  {
   "cell_type": "code",
   "execution_count": 155,
   "metadata": {
    "execution": {
     "iopub.execute_input": "2021-09-05T05:32:21.847932Z",
     "iopub.status.busy": "2021-09-05T05:32:21.847235Z",
     "iopub.status.idle": "2021-09-05T05:32:33.726129Z",
     "shell.execute_reply": "2021-09-05T05:32:33.725468Z",
     "shell.execute_reply.started": "2021-09-05T05:29:38.066205Z"
    },
    "papermill": {
     "duration": 11.961489,
     "end_time": "2021-09-05T05:32:33.726304",
     "exception": false,
     "start_time": "2021-09-05T05:32:21.764815",
     "status": "completed"
    },
    "tags": []
   },
   "outputs": [
    {
     "data": {
      "text/plain": [
       "<Figure size 720x720 with 0 Axes>"
      ]
     },
     "metadata": {},
     "output_type": "display_data"
    },
    {
     "data": {
      "image/png": "[encoded data removed]",
      "text/plain": [
       "<Figure size 720x720 with 20 Axes>"
      ]
     },
     "metadata": {
      "needs_background": "light"
     },
     "output_type": "display_data"
    }
   ],
   "source": [
    "plt.figure(figsize=(10,10))\n",
    "sns.pairplot(data=df, vars = ['Total Cases', 'Active', 'Discharged', 'Deaths'])\n",
    "plt.title('Pair plot')\n",
    "plt.show()"
   ]
  },
  {
   "cell_type": "markdown",
   "metadata": {},
   "source": [
    "## Heatmap\n",
    "\n",
    "A heatmap is a graphical representation of data where values in a matrix are represented as colors. "
   ]
  },
  {
   "cell_type": "code",
   "execution_count": 157,
   "metadata": {
    "execution": {
     "iopub.execute_input": "2021-09-05T05:32:33.866600Z",
     "iopub.status.busy": "2021-09-05T05:32:33.865861Z",
     "iopub.status.idle": "2021-09-05T05:32:33.946044Z",
     "shell.execute_reply": "2021-09-05T05:32:33.945263Z",
     "shell.execute_reply.started": "2021-09-05T05:29:48.597196Z"
    },
    "papermill": {
     "duration": 0.157498,
     "end_time": "2021-09-05T05:32:33.946206",
     "exception": false,
     "start_time": "2021-09-05T05:32:33.788708",
     "status": "completed"
    },
    "tags": []
   },
   "outputs": [
    {
     "data": {
      "image/png": "[encoded data removed]",
      "text/plain": [
       "<Figure size 720x720 with 2 Axes>"
      ]
     },
     "metadata": {
      "needs_background": "light"
     },
     "output_type": "display_data"
    }
   ],
   "source": [
    "plt.figure(figsize=(10,10))\n",
    "sns.heatmap(data = df.corr() , annot = True, vmax=1, vmin=-1)    # df.corr = find the pairwise correlation of all the columns\n",
    "plt.title('Heat Map')                                            # vmax & vmin = range\n",
    "plt.show()                                                       # annot = readability"
   ]
  },
  {
   "cell_type": "markdown",
   "metadata": {},
   "source": [
    "## Box plot\n",
    "\n",
    "A box plot (or box-and-whisker plot) is a way to visualize the distribution of a dataset. "
   ]
  },
  {
   "cell_type": "code",
   "execution_count": 139,
   "metadata": {},
   "outputs": [
    {
     "data": {
      "image/png": "[encoded data removed]",
      "text/plain": [
       "<Figure size 720x720 with 1 Axes>"
      ]
     },
     "metadata": {
      "needs_background": "light"
     },
     "output_type": "display_data"
    }
   ],
   "source": [
    "plt.figure(figsize=(10,10))\n",
    "sns.boxplot(data = df, x='Active',y='Total Cases')\n",
    "plt.title('Box plot')\n",
    "plt.show()"
   ]
  },
  {
   "cell_type": "markdown",
   "metadata": {},
   "source": [
    "## Swarm plot\n",
    "\n",
    "A swarm plot is a categorical scatter plot where points do not overlap, providing a better visualization of the distribution of data."
   ]
  },
  {
   "cell_type": "code",
   "execution_count": 140,
   "metadata": {},
   "outputs": [
    {
     "data": {
      "image/png": "[encoded data removed]",
      "text/plain": [
       "<Figure size 720x792 with 1 Axes>"
      ]
     },
     "metadata": {
      "needs_background": "light"
     },
     "output_type": "display_data"
    }
   ],
   "source": [
    "plt.figure(figsize=(10,11))\n",
    "sns.swarmplot(data = df, x='Active',y='Death Ratio', hue = 'State/UTs')\n",
    "plt.title('Swarm plot')\n",
    "plt.show()"
   ]
  },
  {
   "cell_type": "markdown",
   "metadata": {},
   "source": [
    "## Joint plot\n",
    "\n",
    "A joint plot in Seaborn is a combination of univariate and bivariate plots to visualize the relationship between two variables"
   ]
  },
  {
   "cell_type": "code",
   "execution_count": 141,
   "metadata": {},
   "outputs": [
    {
     "data": {
      "text/plain": [
       "<Figure size 720x720 with 0 Axes>"
      ]
     },
     "metadata": {},
     "output_type": "display_data"
    },
    {
     "data": {
      "image/png": "[encoded data removed]",
      "text/plain": [
       "<Figure size 432x432 with 3 Axes>"
      ]
     },
     "metadata": {
      "needs_background": "light"
     },
     "output_type": "display_data"
    }
   ],
   "source": [
    "plt.figure(figsize=(10,10))\n",
    "sns.jointplot(data = df, x='Deaths',y='Death Ratio')\n",
    "plt.title('Joint plot')\n",
    "plt.show()"
   ]
  },
  {
   "cell_type": "markdown",
   "metadata": {},
   "source": [
    "## Dist plot\n",
    "\n",
    "A distribution plot is used to visualize the univariate distribution of a single variable"
   ]
  },
  {
   "cell_type": "code",
   "execution_count": 163,
   "metadata": {},
   "outputs": [
    {
     "data": {
      "image/png": "[encoded data removed]",
      "text/plain": [
       "<Figure size 720x720 with 1 Axes>"
      ]
     },
     "metadata": {
      "needs_background": "light"
     },
     "output_type": "display_data"
    }
   ],
   "source": [
    "plt.figure(figsize=(10,10))\n",
    "sns.distplot(df['Total Cases'], bins=30, kde=True, color='blue')    # bins = bunch of data values in each bar\n",
    "plt.title('Distribution plot')                                      # kde = Kernal Density Estimation\n",
    "plt.show()"
   ]
  },
  {
   "cell_type": "markdown",
   "metadata": {
    "papermill": {
     "duration": 0.07025,
     "end_time": "2021-09-05T05:32:41.181918",
     "exception": false,
     "start_time": "2021-09-05T05:32:41.111668",
     "status": "completed"
    },
    "tags": []
   },
   "source": [
    "## Step 5: Report"
   ]
  },
  {
   "cell_type": "markdown",
   "metadata": {
    "papermill": {
     "duration": 0.068688,
     "end_time": "2021-09-05T05:32:41.324569",
     "exception": false,
     "start_time": "2021-09-05T05:32:41.255881",
     "status": "completed"
    },
    "tags": []
   },
   "source": [
    "#### Creating Report using Mathematical Calculations"
   ]
  },
  {
   "cell_type": "code",
   "execution_count": 143,
   "metadata": {
    "execution": {
     "iopub.execute_input": "2021-09-05T05:32:41.491293Z",
     "iopub.status.busy": "2021-09-05T05:32:41.490363Z",
     "iopub.status.idle": "2021-09-05T05:32:41.496187Z",
     "shell.execute_reply": "2021-09-05T05:32:41.495578Z",
     "shell.execute_reply.started": "2021-09-05T05:29:53.206955Z"
    },
    "papermill": {
     "duration": 0.097403,
     "end_time": "2021-09-05T05:32:41.496346",
     "exception": false,
     "start_time": "2021-09-05T05:32:41.398943",
     "status": "completed"
    },
    "scrolled": true,
    "tags": []
   },
   "outputs": [
    {
     "data": {
      "text/html": [
       "<div>\n",
       "<style scoped>\n",
       "    .dataframe tbody tr th:only-of-type {\n",
       "        vertical-align: middle;\n",
       "    }\n",
       "\n",
       "    .dataframe tbody tr th {\n",
       "        vertical-align: top;\n",
       "    }\n",
       "\n",
       "    .dataframe thead th {\n",
       "        text-align: right;\n",
       "    }\n",
       "</style>\n",
       "<table border=\"1\" class=\"dataframe\">\n",
       "  <thead>\n",
       "    <tr style=\"text-align: right;\">\n",
       "      <th></th>\n",
       "      <th>State/UTs</th>\n",
       "      <th>Total Cases</th>\n",
       "      <th>Active</th>\n",
       "      <th>Discharged</th>\n",
       "      <th>Deaths</th>\n",
       "      <th>Active Ratio</th>\n",
       "      <th>Discharge Ratio</th>\n",
       "      <th>Death Ratio</th>\n",
       "      <th>Population</th>\n",
       "    </tr>\n",
       "  </thead>\n",
       "  <tbody>\n",
       "    <tr>\n",
       "      <th>20</th>\n",
       "      <td>Maharashtra</td>\n",
       "      <td>8171048</td>\n",
       "      <td>214</td>\n",
       "      <td>8022276</td>\n",
       "      <td>148558</td>\n",
       "      <td>0.0</td>\n",
       "      <td>98.18</td>\n",
       "      <td>1.82</td>\n",
       "      <td>399001</td>\n",
       "    </tr>\n",
       "  </tbody>\n",
       "</table>\n",
       "</div>"
      ],
      "text/plain": [
       "      State/UTs  Total Cases  Active  Discharged  Deaths  Active Ratio  \\\n",
       "20  Maharashtra      8171048     214     8022276  148558           0.0   \n",
       "\n",
       "    Discharge Ratio  Death Ratio  Population  \n",
       "20            98.18         1.82      399001  "
      ]
     },
     "execution_count": 143,
     "metadata": {},
     "output_type": "execute_result"
    }
   ],
   "source": [
    "# State having highest number of covid cases in India.\n",
    "\n",
    "highest_cases = df[df['Total Cases'] == max(df['Total Cases'])]\n",
    "highest_cases"
   ]
  },
  {
   "cell_type": "code",
   "execution_count": 144,
   "metadata": {
    "execution": {
     "iopub.execute_input": "2021-09-05T05:32:41.669319Z",
     "iopub.status.busy": "2021-09-05T05:32:41.668315Z",
     "iopub.status.idle": "2021-09-05T05:32:41.674460Z",
     "shell.execute_reply": "2021-09-05T05:32:41.673730Z",
     "shell.execute_reply.started": "2021-09-05T05:29:53.224430Z"
    },
    "papermill": {
     "duration": 0.101178,
     "end_time": "2021-09-05T05:32:41.674618",
     "exception": false,
     "start_time": "2021-09-05T05:32:41.573440",
     "status": "completed"
    },
    "tags": []
   },
   "outputs": [
    {
     "data": {
      "text/html": [
       "<div>\n",
       "<style scoped>\n",
       "    .dataframe tbody tr th:only-of-type {\n",
       "        vertical-align: middle;\n",
       "    }\n",
       "\n",
       "    .dataframe tbody tr th {\n",
       "        vertical-align: top;\n",
       "    }\n",
       "\n",
       "    .dataframe thead th {\n",
       "        text-align: right;\n",
       "    }\n",
       "</style>\n",
       "<table border=\"1\" class=\"dataframe\">\n",
       "  <thead>\n",
       "    <tr style=\"text-align: right;\">\n",
       "      <th></th>\n",
       "      <th>State/UTs</th>\n",
       "      <th>Total Cases</th>\n",
       "      <th>Active</th>\n",
       "      <th>Discharged</th>\n",
       "      <th>Deaths</th>\n",
       "      <th>Active Ratio</th>\n",
       "      <th>Discharge Ratio</th>\n",
       "      <th>Death Ratio</th>\n",
       "      <th>Population</th>\n",
       "    </tr>\n",
       "  </thead>\n",
       "  <tbody>\n",
       "    <tr>\n",
       "      <th>0</th>\n",
       "      <td>Andaman and Nicobar</td>\n",
       "      <td>10766</td>\n",
       "      <td>0</td>\n",
       "      <td>10637</td>\n",
       "      <td>129</td>\n",
       "      <td>0.0</td>\n",
       "      <td>98.8</td>\n",
       "      <td>1.2</td>\n",
       "      <td>100896618</td>\n",
       "    </tr>\n",
       "  </tbody>\n",
       "</table>\n",
       "</div>"
      ],
      "text/plain": [
       "             State/UTs  Total Cases  Active  Discharged  Deaths  Active Ratio  \\\n",
       "0  Andaman and Nicobar        10766       0       10637     129           0.0   \n",
       "\n",
       "   Discharge Ratio  Death Ratio  Population  \n",
       "0             98.8          1.2   100896618  "
      ]
     },
     "execution_count": 144,
     "metadata": {},
     "output_type": "execute_result"
    }
   ],
   "source": [
    "# State having Lowest number of covid cases in India.\n",
    "\n",
    "lowest_cases = df[df['Total Cases'] == min(df['Total Cases'])]\n",
    "lowest_cases"
   ]
  },
  {
   "cell_type": "code",
   "execution_count": 145,
   "metadata": {
    "execution": {
     "iopub.execute_input": "2021-09-05T05:32:41.842789Z",
     "iopub.status.busy": "2021-09-05T05:32:41.841806Z",
     "iopub.status.idle": "2021-09-05T05:32:41.847018Z",
     "shell.execute_reply": "2021-09-05T05:32:41.846384Z",
     "shell.execute_reply.started": "2021-09-05T05:29:53.248714Z"
    },
    "papermill": {
     "duration": 0.096586,
     "end_time": "2021-09-05T05:32:41.847176",
     "exception": false,
     "start_time": "2021-09-05T05:32:41.750590",
     "status": "completed"
    },
    "tags": []
   },
   "outputs": [
    {
     "data": {
      "text/html": [
       "<div>\n",
       "<style scoped>\n",
       "    .dataframe tbody tr th:only-of-type {\n",
       "        vertical-align: middle;\n",
       "    }\n",
       "\n",
       "    .dataframe tbody tr th {\n",
       "        vertical-align: top;\n",
       "    }\n",
       "\n",
       "    .dataframe thead th {\n",
       "        text-align: right;\n",
       "    }\n",
       "</style>\n",
       "<table border=\"1\" class=\"dataframe\">\n",
       "  <thead>\n",
       "    <tr style=\"text-align: right;\">\n",
       "      <th></th>\n",
       "      <th>State/UTs</th>\n",
       "      <th>Total Cases</th>\n",
       "      <th>Active</th>\n",
       "      <th>Discharged</th>\n",
       "      <th>Deaths</th>\n",
       "      <th>Active Ratio</th>\n",
       "      <th>Discharge Ratio</th>\n",
       "      <th>Death Ratio</th>\n",
       "      <th>Population</th>\n",
       "    </tr>\n",
       "  </thead>\n",
       "  <tbody>\n",
       "    <tr>\n",
       "      <th>27</th>\n",
       "      <td>Punjab</td>\n",
       "      <td>793644</td>\n",
       "      <td>1233</td>\n",
       "      <td>773073</td>\n",
       "      <td>19338</td>\n",
       "      <td>0.16</td>\n",
       "      <td>97.41</td>\n",
       "      <td>2.44</td>\n",
       "      <td>34698876</td>\n",
       "    </tr>\n",
       "  </tbody>\n",
       "</table>\n",
       "</div>"
      ],
      "text/plain": [
       "   State/UTs  Total Cases  Active  Discharged  Deaths  Active Ratio  \\\n",
       "27    Punjab       793644    1233      773073   19338          0.16   \n",
       "\n",
       "    Discharge Ratio  Death Ratio  Population  \n",
       "27            97.41         2.44    34698876  "
      ]
     },
     "execution_count": 145,
     "metadata": {},
     "output_type": "execute_result"
    }
   ],
   "source": [
    "# State having highest number of Active cases in India.\n",
    "\n",
    "highest_active = df[df['Active'] == max(df['Active'])]\n",
    "highest_active"
   ]
  },
  {
   "cell_type": "code",
   "execution_count": 146,
   "metadata": {
    "execution": {
     "iopub.execute_input": "2021-09-05T05:32:42.009668Z",
     "iopub.status.busy": "2021-09-05T05:32:42.009025Z",
     "iopub.status.idle": "2021-09-05T05:32:42.012991Z",
     "shell.execute_reply": "2021-09-05T05:32:42.012440Z",
     "shell.execute_reply.started": "2021-09-05T05:29:53.267457Z"
    },
    "papermill": {
     "duration": 0.090806,
     "end_time": "2021-09-05T05:32:42.013139",
     "exception": false,
     "start_time": "2021-09-05T05:32:41.922333",
     "status": "completed"
    },
    "tags": []
   },
   "outputs": [
    {
     "data": {
      "text/html": [
       "<div>\n",
       "<style scoped>\n",
       "    .dataframe tbody tr th:only-of-type {\n",
       "        vertical-align: middle;\n",
       "    }\n",
       "\n",
       "    .dataframe tbody tr th {\n",
       "        vertical-align: top;\n",
       "    }\n",
       "\n",
       "    .dataframe thead th {\n",
       "        text-align: right;\n",
       "    }\n",
       "</style>\n",
       "<table border=\"1\" class=\"dataframe\">\n",
       "  <thead>\n",
       "    <tr style=\"text-align: right;\">\n",
       "      <th></th>\n",
       "      <th>State/UTs</th>\n",
       "      <th>Total Cases</th>\n",
       "      <th>Active</th>\n",
       "      <th>Discharged</th>\n",
       "      <th>Deaths</th>\n",
       "      <th>Active Ratio</th>\n",
       "      <th>Discharge Ratio</th>\n",
       "      <th>Death Ratio</th>\n",
       "      <th>Population</th>\n",
       "    </tr>\n",
       "  </thead>\n",
       "  <tbody>\n",
       "    <tr>\n",
       "      <th>0</th>\n",
       "      <td>Andaman and Nicobar</td>\n",
       "      <td>10766</td>\n",
       "      <td>0</td>\n",
       "      <td>10637</td>\n",
       "      <td>129</td>\n",
       "      <td>0.0</td>\n",
       "      <td>98.80</td>\n",
       "      <td>1.20</td>\n",
       "      <td>100896618</td>\n",
       "    </tr>\n",
       "    <tr>\n",
       "      <th>1</th>\n",
       "      <td>Andhra Pradesh</td>\n",
       "      <td>2340676</td>\n",
       "      <td>0</td>\n",
       "      <td>2325943</td>\n",
       "      <td>14733</td>\n",
       "      <td>0.0</td>\n",
       "      <td>99.37</td>\n",
       "      <td>0.63</td>\n",
       "      <td>128500364</td>\n",
       "    </tr>\n",
       "    <tr>\n",
       "      <th>2</th>\n",
       "      <td>Arunachal Pradesh</td>\n",
       "      <td>67049</td>\n",
       "      <td>0</td>\n",
       "      <td>66753</td>\n",
       "      <td>296</td>\n",
       "      <td>0.0</td>\n",
       "      <td>99.56</td>\n",
       "      <td>0.44</td>\n",
       "      <td>658019</td>\n",
       "    </tr>\n",
       "    <tr>\n",
       "      <th>5</th>\n",
       "      <td>Chandigarh</td>\n",
       "      <td>100693</td>\n",
       "      <td>0</td>\n",
       "      <td>99508</td>\n",
       "      <td>1185</td>\n",
       "      <td>0.0</td>\n",
       "      <td>98.82</td>\n",
       "      <td>1.18</td>\n",
       "      <td>30501026</td>\n",
       "    </tr>\n",
       "    <tr>\n",
       "      <th>6</th>\n",
       "      <td>Chhattisgarh</td>\n",
       "      <td>1187695</td>\n",
       "      <td>0</td>\n",
       "      <td>1173505</td>\n",
       "      <td>14190</td>\n",
       "      <td>0.0</td>\n",
       "      <td>98.81</td>\n",
       "      <td>1.19</td>\n",
       "      <td>28900667</td>\n",
       "    </tr>\n",
       "    <tr>\n",
       "      <th>7</th>\n",
       "      <td>Daman and Diu</td>\n",
       "      <td>11592</td>\n",
       "      <td>0</td>\n",
       "      <td>11588</td>\n",
       "      <td>4</td>\n",
       "      <td>0.0</td>\n",
       "      <td>99.97</td>\n",
       "      <td>0.03</td>\n",
       "      <td>231502578</td>\n",
       "    </tr>\n",
       "    <tr>\n",
       "      <th>13</th>\n",
       "      <td>Jammu and Kashmir</td>\n",
       "      <td>482023</td>\n",
       "      <td>0</td>\n",
       "      <td>477231</td>\n",
       "      <td>4792</td>\n",
       "      <td>0.0</td>\n",
       "      <td>99.01</td>\n",
       "      <td>0.99</td>\n",
       "      <td>66001</td>\n",
       "    </tr>\n",
       "    <tr>\n",
       "      <th>17</th>\n",
       "      <td>Ladakh</td>\n",
       "      <td>29602</td>\n",
       "      <td>0</td>\n",
       "      <td>29371</td>\n",
       "      <td>231</td>\n",
       "      <td>0.0</td>\n",
       "      <td>99.22</td>\n",
       "      <td>0.78</td>\n",
       "      <td>4184959</td>\n",
       "    </tr>\n",
       "    <tr>\n",
       "      <th>18</th>\n",
       "      <td>Lakshadweep</td>\n",
       "      <td>11415</td>\n",
       "      <td>0</td>\n",
       "      <td>11363</td>\n",
       "      <td>52</td>\n",
       "      <td>0.0</td>\n",
       "      <td>99.54</td>\n",
       "      <td>0.46</td>\n",
       "      <td>11700099</td>\n",
       "    </tr>\n",
       "    <tr>\n",
       "      <th>19</th>\n",
       "      <td>Madhya Pradesh</td>\n",
       "      <td>1056351</td>\n",
       "      <td>0</td>\n",
       "      <td>1045565</td>\n",
       "      <td>10786</td>\n",
       "      <td>0.0</td>\n",
       "      <td>98.98</td>\n",
       "      <td>1.02</td>\n",
       "      <td>14999397</td>\n",
       "    </tr>\n",
       "    <tr>\n",
       "      <th>21</th>\n",
       "      <td>Manipur</td>\n",
       "      <td>140034</td>\n",
       "      <td>0</td>\n",
       "      <td>137885</td>\n",
       "      <td>2149</td>\n",
       "      <td>0.0</td>\n",
       "      <td>98.47</td>\n",
       "      <td>1.53</td>\n",
       "      <td>47099270</td>\n",
       "    </tr>\n",
       "    <tr>\n",
       "      <th>24</th>\n",
       "      <td>Nagaland</td>\n",
       "      <td>36033</td>\n",
       "      <td>0</td>\n",
       "      <td>35251</td>\n",
       "      <td>782</td>\n",
       "      <td>0.0</td>\n",
       "      <td>97.83</td>\n",
       "      <td>2.17</td>\n",
       "      <td>38157311</td>\n",
       "    </tr>\n",
       "    <tr>\n",
       "      <th>26</th>\n",
       "      <td>Puducherry</td>\n",
       "      <td>177547</td>\n",
       "      <td>0</td>\n",
       "      <td>175566</td>\n",
       "      <td>1981</td>\n",
       "      <td>0.0</td>\n",
       "      <td>98.88</td>\n",
       "      <td>1.12</td>\n",
       "      <td>2073074</td>\n",
       "    </tr>\n",
       "    <tr>\n",
       "      <th>34</th>\n",
       "      <td>Uttarakhand</td>\n",
       "      <td>452571</td>\n",
       "      <td>0</td>\n",
       "      <td>444803</td>\n",
       "      <td>7768</td>\n",
       "      <td>0.0</td>\n",
       "      <td>98.28</td>\n",
       "      <td>1.72</td>\n",
       "      <td>85002417</td>\n",
       "    </tr>\n",
       "  </tbody>\n",
       "</table>\n",
       "</div>"
      ],
      "text/plain": [
       "              State/UTs  Total Cases  Active  Discharged  Deaths  \\\n",
       "0   Andaman and Nicobar        10766       0       10637     129   \n",
       "1        Andhra Pradesh      2340676       0     2325943   14733   \n",
       "2     Arunachal Pradesh        67049       0       66753     296   \n",
       "5            Chandigarh       100693       0       99508    1185   \n",
       "6          Chhattisgarh      1187695       0     1173505   14190   \n",
       "7         Daman and Diu        11592       0       11588       4   \n",
       "13    Jammu and Kashmir       482023       0      477231    4792   \n",
       "17               Ladakh        29602       0       29371     231   \n",
       "18          Lakshadweep        11415       0       11363      52   \n",
       "19       Madhya Pradesh      1056351       0     1045565   10786   \n",
       "21              Manipur       140034       0      137885    2149   \n",
       "24             Nagaland        36033       0       35251     782   \n",
       "26           Puducherry       177547       0      175566    1981   \n",
       "34          Uttarakhand       452571       0      444803    7768   \n",
       "\n",
       "    Active Ratio  Discharge Ratio  Death Ratio  Population  \n",
       "0            0.0            98.80         1.20   100896618  \n",
       "1            0.0            99.37         0.63   128500364  \n",
       "2            0.0            99.56         0.44      658019  \n",
       "5            0.0            98.82         1.18    30501026  \n",
       "6            0.0            98.81         1.19    28900667  \n",
       "7            0.0            99.97         0.03   231502578  \n",
       "13           0.0            99.01         0.99       66001  \n",
       "17           0.0            99.22         0.78     4184959  \n",
       "18           0.0            99.54         0.46    11700099  \n",
       "19           0.0            98.98         1.02    14999397  \n",
       "21           0.0            98.47         1.53    47099270  \n",
       "24           0.0            97.83         2.17    38157311  \n",
       "26           0.0            98.88         1.12     2073074  \n",
       "34           0.0            98.28         1.72    85002417  "
      ]
     },
     "execution_count": 146,
     "metadata": {},
     "output_type": "execute_result"
    }
   ],
   "source": [
    "# State having Lowest number of Active cases in India.\n",
    "\n",
    "lowest_active = df[df['Active'] == min(df['Active'])]\n",
    "lowest_active"
   ]
  },
  {
   "cell_type": "code",
   "execution_count": 147,
   "metadata": {
    "execution": {
     "iopub.execute_input": "2021-09-05T05:32:42.166537Z",
     "iopub.status.busy": "2021-09-05T05:32:42.165871Z",
     "iopub.status.idle": "2021-09-05T05:32:42.180836Z",
     "shell.execute_reply": "2021-09-05T05:32:42.181419Z",
     "shell.execute_reply.started": "2021-09-05T05:29:53.285186Z"
    },
    "papermill": {
     "duration": 0.093916,
     "end_time": "2021-09-05T05:32:42.181618",
     "exception": false,
     "start_time": "2021-09-05T05:32:42.087702",
     "status": "completed"
    },
    "tags": []
   },
   "outputs": [
    {
     "data": {
      "text/html": [
       "<div>\n",
       "<style scoped>\n",
       "    .dataframe tbody tr th:only-of-type {\n",
       "        vertical-align: middle;\n",
       "    }\n",
       "\n",
       "    .dataframe tbody tr th {\n",
       "        vertical-align: top;\n",
       "    }\n",
       "\n",
       "    .dataframe thead th {\n",
       "        text-align: right;\n",
       "    }\n",
       "</style>\n",
       "<table border=\"1\" class=\"dataframe\">\n",
       "  <thead>\n",
       "    <tr style=\"text-align: right;\">\n",
       "      <th></th>\n",
       "      <th>State/UTs</th>\n",
       "      <th>Total Cases</th>\n",
       "      <th>Active</th>\n",
       "      <th>Discharged</th>\n",
       "      <th>Deaths</th>\n",
       "      <th>Active Ratio</th>\n",
       "      <th>Discharge Ratio</th>\n",
       "      <th>Death Ratio</th>\n",
       "      <th>Population</th>\n",
       "    </tr>\n",
       "  </thead>\n",
       "  <tbody>\n",
       "    <tr>\n",
       "      <th>27</th>\n",
       "      <td>Punjab</td>\n",
       "      <td>793644</td>\n",
       "      <td>1233</td>\n",
       "      <td>773073</td>\n",
       "      <td>19338</td>\n",
       "      <td>0.16</td>\n",
       "      <td>97.41</td>\n",
       "      <td>2.44</td>\n",
       "      <td>34698876</td>\n",
       "    </tr>\n",
       "  </tbody>\n",
       "</table>\n",
       "</div>"
      ],
      "text/plain": [
       "   State/UTs  Total Cases  Active  Discharged  Deaths  Active Ratio  \\\n",
       "27    Punjab       793644    1233      773073   19338          0.16   \n",
       "\n",
       "    Discharge Ratio  Death Ratio  Population  \n",
       "27            97.41         2.44    34698876  "
      ]
     },
     "execution_count": 147,
     "metadata": {},
     "output_type": "execute_result"
    }
   ],
   "source": [
    "# State having highest number of death ratio in India.\n",
    "\n",
    "highest_death_ratio = df[df['Death Ratio'] == max(df['Death Ratio'])]\n",
    "highest_death_ratio"
   ]
  },
  {
   "cell_type": "code",
   "execution_count": 148,
   "metadata": {
    "execution": {
     "iopub.execute_input": "2021-09-05T05:32:42.335532Z",
     "iopub.status.busy": "2021-09-05T05:32:42.334858Z",
     "iopub.status.idle": "2021-09-05T05:32:42.351833Z",
     "shell.execute_reply": "2021-09-05T05:32:42.351023Z",
     "shell.execute_reply.started": "2021-09-05T05:29:53.311455Z"
    },
    "papermill": {
     "duration": 0.09617,
     "end_time": "2021-09-05T05:32:42.352316",
     "exception": false,
     "start_time": "2021-09-05T05:32:42.256146",
     "status": "completed"
    },
    "tags": []
   },
   "outputs": [
    {
     "data": {
      "text/html": [
       "<div>\n",
       "<style scoped>\n",
       "    .dataframe tbody tr th:only-of-type {\n",
       "        vertical-align: middle;\n",
       "    }\n",
       "\n",
       "    .dataframe tbody tr th {\n",
       "        vertical-align: top;\n",
       "    }\n",
       "\n",
       "    .dataframe thead th {\n",
       "        text-align: right;\n",
       "    }\n",
       "</style>\n",
       "<table border=\"1\" class=\"dataframe\">\n",
       "  <thead>\n",
       "    <tr style=\"text-align: right;\">\n",
       "      <th></th>\n",
       "      <th>State/UTs</th>\n",
       "      <th>Total Cases</th>\n",
       "      <th>Active</th>\n",
       "      <th>Discharged</th>\n",
       "      <th>Deaths</th>\n",
       "      <th>Active Ratio</th>\n",
       "      <th>Discharge Ratio</th>\n",
       "      <th>Death Ratio</th>\n",
       "      <th>Population</th>\n",
       "    </tr>\n",
       "  </thead>\n",
       "  <tbody>\n",
       "    <tr>\n",
       "      <th>7</th>\n",
       "      <td>Daman and Diu</td>\n",
       "      <td>11592</td>\n",
       "      <td>0</td>\n",
       "      <td>11588</td>\n",
       "      <td>4</td>\n",
       "      <td>0.0</td>\n",
       "      <td>99.97</td>\n",
       "      <td>0.03</td>\n",
       "      <td>231502578</td>\n",
       "    </tr>\n",
       "  </tbody>\n",
       "</table>\n",
       "</div>"
      ],
      "text/plain": [
       "       State/UTs  Total Cases  Active  Discharged  Deaths  Active Ratio  \\\n",
       "7  Daman and Diu        11592       0       11588       4           0.0   \n",
       "\n",
       "   Discharge Ratio  Death Ratio  Population  \n",
       "7            99.97         0.03   231502578  "
      ]
     },
     "execution_count": 148,
     "metadata": {},
     "output_type": "execute_result"
    }
   ],
   "source": [
    "# State having lowest number of death ratio in India.\n",
    "\n",
    "lowest_death_ratio = df[df['Death Ratio'] == min(df['Death Ratio'])]\n",
    "lowest_death_ratio"
   ]
  },
  {
   "cell_type": "code",
   "execution_count": 149,
   "metadata": {
    "execution": {
     "iopub.execute_input": "2021-09-05T05:32:42.515595Z",
     "iopub.status.busy": "2021-09-05T05:32:42.514801Z",
     "iopub.status.idle": "2021-09-05T05:32:42.519164Z",
     "shell.execute_reply": "2021-09-05T05:32:42.519683Z",
     "shell.execute_reply.started": "2021-09-05T05:29:53.329675Z"
    },
    "papermill": {
     "duration": 0.094358,
     "end_time": "2021-09-05T05:32:42.519913",
     "exception": false,
     "start_time": "2021-09-05T05:32:42.425555",
     "status": "completed"
    },
    "tags": []
   },
   "outputs": [
    {
     "data": {
      "text/html": [
       "<div>\n",
       "<style scoped>\n",
       "    .dataframe tbody tr th:only-of-type {\n",
       "        vertical-align: middle;\n",
       "    }\n",
       "\n",
       "    .dataframe tbody tr th {\n",
       "        vertical-align: top;\n",
       "    }\n",
       "\n",
       "    .dataframe thead th {\n",
       "        text-align: right;\n",
       "    }\n",
       "</style>\n",
       "<table border=\"1\" class=\"dataframe\">\n",
       "  <thead>\n",
       "    <tr style=\"text-align: right;\">\n",
       "      <th></th>\n",
       "      <th>State/UTs</th>\n",
       "      <th>Total Cases</th>\n",
       "      <th>Active</th>\n",
       "      <th>Discharged</th>\n",
       "      <th>Deaths</th>\n",
       "      <th>Active Ratio</th>\n",
       "      <th>Discharge Ratio</th>\n",
       "      <th>Death Ratio</th>\n",
       "      <th>Population</th>\n",
       "    </tr>\n",
       "  </thead>\n",
       "  <tbody>\n",
       "    <tr>\n",
       "      <th>7</th>\n",
       "      <td>Daman and Diu</td>\n",
       "      <td>11592</td>\n",
       "      <td>0</td>\n",
       "      <td>11588</td>\n",
       "      <td>4</td>\n",
       "      <td>0.0</td>\n",
       "      <td>99.97</td>\n",
       "      <td>0.03</td>\n",
       "      <td>231502578</td>\n",
       "    </tr>\n",
       "  </tbody>\n",
       "</table>\n",
       "</div>"
      ],
      "text/plain": [
       "       State/UTs  Total Cases  Active  Discharged  Deaths  Active Ratio  \\\n",
       "7  Daman and Diu        11592       0       11588       4           0.0   \n",
       "\n",
       "   Discharge Ratio  Death Ratio  Population  \n",
       "7            99.97         0.03   231502578  "
      ]
     },
     "execution_count": 149,
     "metadata": {},
     "output_type": "execute_result"
    }
   ],
   "source": [
    "# State having highest discharge ratio in India.\n",
    "\n",
    "highest_discharge_ratio = df[df['Discharge Ratio'] == max(df['Discharge Ratio'])]\n",
    "highest_discharge_ratio"
   ]
  },
  {
   "cell_type": "code",
   "execution_count": 150,
   "metadata": {
    "execution": {
     "iopub.execute_input": "2021-09-05T05:32:42.674293Z",
     "iopub.status.busy": "2021-09-05T05:32:42.673609Z",
     "iopub.status.idle": "2021-09-05T05:32:42.687138Z",
     "shell.execute_reply": "2021-09-05T05:32:42.687654Z",
     "shell.execute_reply.started": "2021-09-05T05:29:53.351303Z"
    },
    "papermill": {
     "duration": 0.090405,
     "end_time": "2021-09-05T05:32:42.687884",
     "exception": false,
     "start_time": "2021-09-05T05:32:42.597479",
     "status": "completed"
    },
    "tags": []
   },
   "outputs": [
    {
     "data": {
      "text/html": [
       "<div>\n",
       "<style scoped>\n",
       "    .dataframe tbody tr th:only-of-type {\n",
       "        vertical-align: middle;\n",
       "    }\n",
       "\n",
       "    .dataframe tbody tr th {\n",
       "        vertical-align: top;\n",
       "    }\n",
       "\n",
       "    .dataframe thead th {\n",
       "        text-align: right;\n",
       "    }\n",
       "</style>\n",
       "<table border=\"1\" class=\"dataframe\">\n",
       "  <thead>\n",
       "    <tr style=\"text-align: right;\">\n",
       "      <th></th>\n",
       "      <th>State/UTs</th>\n",
       "      <th>Total Cases</th>\n",
       "      <th>Active</th>\n",
       "      <th>Discharged</th>\n",
       "      <th>Deaths</th>\n",
       "      <th>Active Ratio</th>\n",
       "      <th>Discharge Ratio</th>\n",
       "      <th>Death Ratio</th>\n",
       "      <th>Population</th>\n",
       "    </tr>\n",
       "  </thead>\n",
       "  <tbody>\n",
       "    <tr>\n",
       "      <th>27</th>\n",
       "      <td>Punjab</td>\n",
       "      <td>793644</td>\n",
       "      <td>1233</td>\n",
       "      <td>773073</td>\n",
       "      <td>19338</td>\n",
       "      <td>0.16</td>\n",
       "      <td>97.41</td>\n",
       "      <td>2.44</td>\n",
       "      <td>34698876</td>\n",
       "    </tr>\n",
       "  </tbody>\n",
       "</table>\n",
       "</div>"
      ],
      "text/plain": [
       "   State/UTs  Total Cases  Active  Discharged  Deaths  Active Ratio  \\\n",
       "27    Punjab       793644    1233      773073   19338          0.16   \n",
       "\n",
       "    Discharge Ratio  Death Ratio  Population  \n",
       "27            97.41         2.44    34698876  "
      ]
     },
     "execution_count": 150,
     "metadata": {},
     "output_type": "execute_result"
    }
   ],
   "source": [
    "# State having lowest discharge ratio in India.\n",
    "\n",
    "lowest_discharge_ratio = df[df['Discharge Ratio'] == min(df['Discharge Ratio'])]\n",
    "lowest_discharge_ratio"
   ]
  },
  {
   "cell_type": "code",
   "execution_count": 151,
   "metadata": {},
   "outputs": [
    {
     "data": {
      "text/html": [
       "<div>\n",
       "<style scoped>\n",
       "    .dataframe tbody tr th:only-of-type {\n",
       "        vertical-align: middle;\n",
       "    }\n",
       "\n",
       "    .dataframe tbody tr th {\n",
       "        vertical-align: top;\n",
       "    }\n",
       "\n",
       "    .dataframe thead th {\n",
       "        text-align: right;\n",
       "    }\n",
       "</style>\n",
       "<table border=\"1\" class=\"dataframe\">\n",
       "  <thead>\n",
       "    <tr style=\"text-align: right;\">\n",
       "      <th></th>\n",
       "      <th>State/UTs</th>\n",
       "      <th>Total Cases</th>\n",
       "      <th>Active</th>\n",
       "      <th>Discharged</th>\n",
       "      <th>Deaths</th>\n",
       "      <th>Active Ratio</th>\n",
       "      <th>Discharge Ratio</th>\n",
       "      <th>Death Ratio</th>\n",
       "      <th>Population</th>\n",
       "    </tr>\n",
       "  </thead>\n",
       "  <tbody>\n",
       "    <tr>\n",
       "      <th>27</th>\n",
       "      <td>Punjab</td>\n",
       "      <td>793644</td>\n",
       "      <td>1233</td>\n",
       "      <td>773073</td>\n",
       "      <td>19338</td>\n",
       "      <td>0.16</td>\n",
       "      <td>97.41</td>\n",
       "      <td>2.44</td>\n",
       "      <td>34698876</td>\n",
       "    </tr>\n",
       "    <tr>\n",
       "      <th>24</th>\n",
       "      <td>Nagaland</td>\n",
       "      <td>36033</td>\n",
       "      <td>0</td>\n",
       "      <td>35251</td>\n",
       "      <td>782</td>\n",
       "      <td>0.00</td>\n",
       "      <td>97.83</td>\n",
       "      <td>2.17</td>\n",
       "      <td>38157311</td>\n",
       "    </tr>\n",
       "    <tr>\n",
       "      <th>20</th>\n",
       "      <td>Maharashtra</td>\n",
       "      <td>8171048</td>\n",
       "      <td>214</td>\n",
       "      <td>8022276</td>\n",
       "      <td>148558</td>\n",
       "      <td>0.00</td>\n",
       "      <td>98.18</td>\n",
       "      <td>1.82</td>\n",
       "      <td>399001</td>\n",
       "    </tr>\n",
       "    <tr>\n",
       "      <th>34</th>\n",
       "      <td>Uttarakhand</td>\n",
       "      <td>452571</td>\n",
       "      <td>0</td>\n",
       "      <td>444803</td>\n",
       "      <td>7768</td>\n",
       "      <td>0.00</td>\n",
       "      <td>98.28</td>\n",
       "      <td>1.72</td>\n",
       "      <td>85002417</td>\n",
       "    </tr>\n",
       "    <tr>\n",
       "      <th>22</th>\n",
       "      <td>Meghalaya</td>\n",
       "      <td>96983</td>\n",
       "      <td>3</td>\n",
       "      <td>95352</td>\n",
       "      <td>1628</td>\n",
       "      <td>0.00</td>\n",
       "      <td>98.32</td>\n",
       "      <td>1.68</td>\n",
       "      <td>79502477</td>\n",
       "    </tr>\n",
       "  </tbody>\n",
       "</table>\n",
       "</div>"
      ],
      "text/plain": [
       "      State/UTs  Total Cases  Active  Discharged  Deaths  Active Ratio  \\\n",
       "27       Punjab       793644    1233      773073   19338          0.16   \n",
       "24     Nagaland        36033       0       35251     782          0.00   \n",
       "20  Maharashtra      8171048     214     8022276  148558          0.00   \n",
       "34  Uttarakhand       452571       0      444803    7768          0.00   \n",
       "22    Meghalaya        96983       3       95352    1628          0.00   \n",
       "\n",
       "    Discharge Ratio  Death Ratio  Population  \n",
       "27            97.41         2.44    34698876  \n",
       "24            97.83         2.17    38157311  \n",
       "20            98.18         1.82      399001  \n",
       "34            98.28         1.72    85002417  \n",
       "22            98.32         1.68    79502477  "
      ]
     },
     "execution_count": 151,
     "metadata": {},
     "output_type": "execute_result"
    }
   ],
   "source": [
    "# DataFrame of top 5 state having highest Death ratio in India.\n",
    "\n",
    "df1"
   ]
  },
  {
   "cell_type": "markdown",
   "metadata": {},
   "source": [
    "## Bar Plot\n",
    "\n",
    "\n",
    "A barplot or barchart is one of the most common types of graphic, it shows the relationship between a numerical and categoric value."
   ]
  },
  {
   "cell_type": "code",
   "execution_count": 152,
   "metadata": {
    "execution": {
     "iopub.execute_input": "2021-09-05T05:32:42.847093Z",
     "iopub.status.busy": "2021-09-05T05:32:42.845976Z",
     "iopub.status.idle": "2021-09-05T05:32:43.002284Z",
     "shell.execute_reply": "2021-09-05T05:32:43.002818Z",
     "shell.execute_reply.started": "2021-09-05T05:29:53.376100Z"
    },
    "papermill": {
     "duration": 0.237402,
     "end_time": "2021-09-05T05:32:43.003021",
     "exception": false,
     "start_time": "2021-09-05T05:32:42.765619",
     "status": "completed"
    },
    "scrolled": true,
    "tags": []
   },
   "outputs": [
    {
     "data": {
      "image/png": "[encoded data removed]",
      "text/plain": [
       "<Figure size 432x288 with 1 Axes>"
      ]
     },
     "metadata": {
      "needs_background": "light"
     },
     "output_type": "display_data"
    }
   ],
   "source": [
    "# Visualization of top 5 state having highest Death ratio in India.\n",
    "\n",
    "df1 = df.sort_values(by='Death Ratio', ascending=False).head(5)\n",
    "states = df1['State/UTs']\n",
    "ratio = df1['Death Ratio']\n",
    "plt.bar(states, ratio, color = ('yellow', 'green', 'cyan', 'coral', 'blue'), edgecolor = 'black')\n",
    "plt.xlabel('Death Ratio')\n",
    "plt.ylabel('State')\n",
    "plt.title('State with  more death ratio in India')\n",
    "plt.show()"
   ]
  },
  {
   "cell_type": "markdown",
   "metadata": {},
   "source": [
    "## Pie chart\n",
    "\n",
    "A pie chart is a circular statistical graphic that is divided into slices to illustrate numerical proportions"
   ]
  },
  {
   "cell_type": "code",
   "execution_count": 153,
   "metadata": {},
   "outputs": [
    {
     "data": {
      "image/png": "[encoded data removed]",
      "text/plain": [
       "<Figure size 432x288 with 1 Axes>"
      ]
     },
     "metadata": {},
     "output_type": "display_data"
    }
   ],
   "source": [
    "# Population through pie chart\n",
    "\n",
    "labels = ['Punjab', 'Nagaland', 'Maharashtra', 'Uttarakhand', 'Meghalaya']\n",
    "sizes = [34698876, 38157311, 399001, 85002417, 79502477]\n",
    "colors = ['yellow', 'green', 'cyan', 'coral', 'blue']\n",
    "\n",
    "plt.pie(sizes, labels=labels, autopct='%1.1f%%', colors=colors, startangle=90)\n",
    "plt.title('Pie chart')\n",
    "plt.show()"
   ]
  },
  {
   "cell_type": "code",
   "execution_count": null,
   "metadata": {},
   "outputs": [],
   "source": []
  }
 ],
 "metadata": {
  "kernelspec": {
   "display_name": "Python 3",
   "language": "python",
   "name": "python3"
  },
  "language_info": {
   "codemirror_mode": {
    "name": "ipython",
    "version": 3
   },
   "file_extension": ".py",
   "mimetype": "text/x-python",
   "name": "python",
   "nbconvert_exporter": "python",
   "pygments_lexer": "ipython3",
   "version": "3.7.6"
  },
  "papermill": {
   "default_parameters": {},
   "duration": 44.057147,
   "end_time": "2021-09-05T05:32:45.353345",
   "environment_variables": {},
   "exception": null,
   "input_path": "__notebook__.ipynb",
   "output_path": "__notebook__.ipynb",
   "parameters": {},
   "start_time": "2021-09-05T05:32:01.296198",
   "version": "2.3.3"
  }
 },
 "nbformat": 4,
 "nbformat_minor": 5
}
